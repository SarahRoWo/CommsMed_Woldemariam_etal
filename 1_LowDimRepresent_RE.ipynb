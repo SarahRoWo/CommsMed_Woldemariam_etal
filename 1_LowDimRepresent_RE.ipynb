{
 "cells": [
  {
   "cell_type": "markdown",
   "metadata": {},
   "source": [
    "### UMAP"
   ]
  },
  {
   "cell_type": "code",
   "execution_count": null,
   "metadata": {},
   "outputs": [],
   "source": [
    "%matplotlib inline\n",
    "import pandas as pd\n",
    "import seaborn as sns\n",
    "import matplotlib.pyplot as plt\n",
    "import numpy as np\n",
    "import os\n",
    "import numba\n",
    "import umap\n",
    "import re\n",
    "from scipy import stats\n",
    "from scipy.stats import mstats\n",
    "from scikit_posthocs import posthoc_dunn\n",
    "pd.set_option('display.max_rows', 50)\n",
    "np.set_printoptions(threshold=50)"
   ]
  },
  {
   "cell_type": "code",
   "execution_count": null,
   "metadata": {},
   "outputs": [],
   "source": [
    "diagkeys = ['phenotype']"
   ]
  },
  {
   "cell_type": "code",
   "execution_count": null,
   "metadata": {},
   "outputs": [],
   "source": [
    "%run -i setup_functions.py"
   ]
  },
  {
   "cell_type": "code",
   "execution_count": null,
   "metadata": {},
   "outputs": [],
   "source": [
    "basedir = os.getcwd()"
   ]
  },
  {
   "cell_type": "markdown",
   "metadata": {},
   "source": [
    "# Prepare Data"
   ]
  },
  {
   "cell_type": "code",
   "execution_count": null,
   "metadata": {},
   "outputs": [],
   "source": [
    "## Get Alzheimer's Disease demographic and diagnosis information ##\n",
    "ad_demo = pd.read_csv('Demographics/ad_demographics.csv')\n",
    "\n",
    "ad_diag_all = pd.read_csv('Diagnoses/phecode_diagnoses/ad_diagnoses.csv')\n",
    "\n",
    "# Only keep diagnoses mapped to phecodes that are organized into ICD-10 inspired chapters\n",
    "ad_diag = ad_diag_all[~ad_diag_all['icd10_chapter'].isnull()]\n",
    "\n",
    "## Get Control demographic and diagnosis information ##\n",
    "con_demo = pd.read_csv('Demographics/con_demographics.csv')\n",
    "\n",
    "con_diag_all = pd.read_csv('Diagnoses/phecode_diagnoses/con_diagnoses.csv')\n",
    "\n",
    "# Only keep diagnoses mapped to phecodes that are organized into ICD-10 inspired chapters\n",
    "con_diag = con_diag_all[~con_diag_all['icd10_chapter'].isnull()]\n",
    "\n",
    "# Merge con_demo info to retain the remaining patients:\n",
    "con_diag = con_demo['person_id'].to_frame().merge(con_diag,\n",
    "                                                  how='left',\n",
    "                                                  on='person_id')"
   ]
  },
  {
   "cell_type": "code",
   "execution_count": null,
   "metadata": {},
   "outputs": [],
   "source": [
    "total_ad = ad_demo.shape[0] #Total alzheimer patients\n",
    "total_con = con_demo.shape[0] #Total control patients"
   ]
  },
  {
   "cell_type": "code",
   "execution_count": null,
   "metadata": {},
   "outputs": [],
   "source": [
    "total_ad"
   ]
  },
  {
   "cell_type": "code",
   "execution_count": null,
   "metadata": {},
   "outputs": [],
   "source": [
    "total_con"
   ]
  },
  {
   "cell_type": "markdown",
   "metadata": {},
   "source": [
    "### Only keep patients from MatchIt"
   ]
  },
  {
   "cell_type": "markdown",
   "metadata": {},
   "source": [
    "AD patients"
   ]
  },
  {
   "cell_type": "code",
   "execution_count": null,
   "metadata": {},
   "outputs": [],
   "source": [
    "# Get person_ids for MatchIt AD patients\n",
    "ad_MatchIt = pd.read_csv('Demographics/RE_MI_ad_demo.csv')"
   ]
  },
  {
   "cell_type": "code",
   "execution_count": null,
   "metadata": {},
   "outputs": [],
   "source": [
    "ad_diag = ad_diag[ad_diag['person_id'].isin(ad_MatchIt['person_id'])]"
   ]
  },
  {
   "cell_type": "code",
   "execution_count": null,
   "metadata": {},
   "outputs": [],
   "source": [
    "# 422 patients each\n",
    "ad_diag['person_id'].unique().shape"
   ]
  },
  {
   "cell_type": "markdown",
   "metadata": {},
   "source": [
    "control patients"
   ]
  },
  {
   "cell_type": "code",
   "execution_count": null,
   "metadata": {},
   "outputs": [],
   "source": [
    "# Get person_ids for MatchIt Control patients\n",
    "con_MatchIt = pd.read_csv('Demographics/RE_MI_con_demo.csv')"
   ]
  },
  {
   "cell_type": "code",
   "execution_count": null,
   "metadata": {},
   "outputs": [],
   "source": [
    "con_diag = con_diag[con_diag['person_id'].isin(con_MatchIt['person_id'])]"
   ]
  },
  {
   "cell_type": "code",
   "execution_count": null,
   "metadata": {},
   "outputs": [],
   "source": [
    "# 844 patients each\n",
    "con_diag['person_id'].unique().shape"
   ]
  },
  {
   "cell_type": "markdown",
   "metadata": {},
   "source": [
    "### Only keep the following columns: 'person_id', 'PatientDurableKey', 'phecode', 'phenotype', 'icd10_chapter'"
   ]
  },
  {
   "cell_type": "code",
   "execution_count": null,
   "metadata": {},
   "outputs": [],
   "source": [
    "ad_diag = ad_diag[['person_id', \n",
    "                   'PatientDurableKey',\n",
    "                   'phecode',\n",
    "                   'phenotype',\n",
    "                   'icd10_chapter']].copy().drop_duplicates()\n",
    "con_diag = con_diag[['person_id', \n",
    "                     'PatientDurableKey',\n",
    "                     'phecode',\n",
    "                     'phenotype',\n",
    "                     'icd10_chapter']].copy().drop_duplicates()"
   ]
  },
  {
   "cell_type": "markdown",
   "metadata": {},
   "source": [
    "AD patients' information"
   ]
  },
  {
   "cell_type": "code",
   "execution_count": null,
   "metadata": {},
   "outputs": [],
   "source": [
    "ad_diag['phenotype'].value_counts()"
   ]
  },
  {
   "cell_type": "code",
   "execution_count": null,
   "metadata": {},
   "outputs": [],
   "source": [
    "ad_diag.info()"
   ]
  },
  {
   "cell_type": "markdown",
   "metadata": {},
   "source": [
    "control patients' information"
   ]
  },
  {
   "cell_type": "code",
   "execution_count": null,
   "metadata": {},
   "outputs": [],
   "source": [
    "con_diag['phenotype'].value_counts()"
   ]
  },
  {
   "cell_type": "code",
   "execution_count": null,
   "metadata": {},
   "outputs": [],
   "source": [
    "con_diag.info()"
   ]
  },
  {
   "cell_type": "markdown",
   "metadata": {},
   "source": [
    "### Make pivot tables"
   ]
  },
  {
   "cell_type": "code",
   "execution_count": null,
   "metadata": {},
   "outputs": [],
   "source": [
    "# Takes a few minutes\n",
    "n = 'phenotype'\n",
    "ad_diag_pivot = pd.pivot_table(ad_diag[[n, 'person_id']].drop_duplicates(), \n",
    "                               values=[n], \n",
    "                               index='person_id', \n",
    "                               columns=[n],\n",
    "                               aggfunc=lambda x: 1 if len(x)>0 else 0, \n",
    "                               fill_value=0)\n",
    "ad_diag_pivot['isalz'] = 1\n",
    "ad_diag_pivot.head(3)\n",
    "# Note: Each row is a patient, each column is diagnosis \n",
    "# Value is 1 if patient has diagnosis, 0 otherwise"
   ]
  },
  {
   "cell_type": "code",
   "execution_count": null,
   "metadata": {},
   "outputs": [],
   "source": [
    "# 1688 patients\n",
    "ad_diag_pivot.shape"
   ]
  },
  {
   "cell_type": "code",
   "execution_count": null,
   "metadata": {},
   "outputs": [],
   "source": [
    "n = 'phenotype'\n",
    "con_diag_pivot = pd.pivot_table(con_diag[[n, 'person_id']].drop_duplicates(), \n",
    "                                values=[n], \n",
    "                                index='person_id', \n",
    "                                columns=[n],\n",
    "                                aggfunc=lambda x: 1 if len(x)>0 else 0, \n",
    "                                fill_value = 0)\n",
    "con_diag_pivot['isalz'] = 0\n",
    "con_diag_pivot.head(3)"
   ]
  },
  {
   "cell_type": "code",
   "execution_count": null,
   "metadata": {},
   "outputs": [],
   "source": [
    "# 2049 control patients (1327 patients don't have any diagnosis)\n",
    "con_diag_pivot.shape"
   ]
  },
  {
   "cell_type": "code",
   "execution_count": null,
   "metadata": {},
   "outputs": [],
   "source": [
    "alldiag_pivot = pd.concat([ad_diag_pivot, con_diag_pivot], axis=0)"
   ]
  },
  {
   "cell_type": "markdown",
   "metadata": {},
   "source": [
    "### Drop columns"
   ]
  },
  {
   "cell_type": "code",
   "execution_count": null,
   "metadata": {
    "scrolled": false
   },
   "outputs": [],
   "source": [
    "colstodrop = alldiag_pivot.columns[alldiag_pivot.columns.str.contains('alzheimer', \n",
    "                                                                      flags=re.IGNORECASE)]\n",
    "colstodrop"
   ]
  },
  {
   "cell_type": "code",
   "execution_count": null,
   "metadata": {},
   "outputs": [],
   "source": [
    "alldiag_pivot = alldiag_pivot.drop(colstodrop, axis=1)"
   ]
  },
  {
   "cell_type": "markdown",
   "metadata": {},
   "source": [
    "### Make demographic df"
   ]
  },
  {
   "cell_type": "code",
   "execution_count": null,
   "metadata": {},
   "outputs": [],
   "source": [
    "ad_demo.columns"
   ]
  },
  {
   "cell_type": "code",
   "execution_count": null,
   "metadata": {},
   "outputs": [],
   "source": [
    "demographic_cols = ['person_id',\n",
    "                    'estimated_age',\n",
    "                    'gender_concept_id',\n",
    "                    'race_concept_id',\n",
    "                    'ethnicity_concept_id',\n",
    "                    'UCSFDerivedRaceEthnicity_Clean',\n",
    "                    'death_status',\n",
    "                    'zip']\n",
    "all_demo = pd.concat([ad_demo[demographic_cols], \n",
    "                      con_demo[demographic_cols]],\n",
    "                      copy=False)\n",
    "\n",
    "all_demo = all_demo.drop_duplicates().set_index('person_id').reindex(alldiag_pivot.index)"
   ]
  },
  {
   "cell_type": "markdown",
   "metadata": {},
   "source": [
    "### Check that alldiag_pivot and all_demo dfs have the same number of rows, the same index, and fillna with 0."
   ]
  },
  {
   "cell_type": "code",
   "execution_count": null,
   "metadata": {},
   "outputs": [],
   "source": [
    "# Fill all NaN values with 0\n",
    "alldiag_pivot = alldiag_pivot.fillna(0)\n",
    "all_demo = all_demo.fillna(0)"
   ]
  },
  {
   "cell_type": "code",
   "execution_count": null,
   "metadata": {},
   "outputs": [],
   "source": [
    "# Check the shape of both dfs\n",
    "print('Shape of alldiag_pivot is {} and shape of all_demo is {}.'.format(alldiag_pivot.shape,\n",
    "                                                                         all_demo.shape))"
   ]
  },
  {
   "cell_type": "code",
   "execution_count": null,
   "metadata": {},
   "outputs": [],
   "source": [
    "# Check whether indices are the same for both dfs\n",
    "pd.Series(alldiag_pivot.index == all_demo.index).unique()"
   ]
  },
  {
   "cell_type": "code",
   "execution_count": null,
   "metadata": {
    "scrolled": true
   },
   "outputs": [],
   "source": [
    "all_demo.head(3)"
   ]
  },
  {
   "cell_type": "markdown",
   "metadata": {},
   "source": [
    "# Dimensionality Reduction"
   ]
  },
  {
   "cell_type": "code",
   "execution_count": null,
   "metadata": {},
   "outputs": [],
   "source": [
    "y = alldiag_pivot['isalz'].replace({True:'Alzheimer',False:'Control'})\n",
    "demographic_cols.remove('person_id')"
   ]
  },
  {
   "cell_type": "code",
   "execution_count": null,
   "metadata": {},
   "outputs": [],
   "source": [
    "z = all_demo"
   ]
  },
  {
   "cell_type": "code",
   "execution_count": null,
   "metadata": {},
   "outputs": [],
   "source": [
    "X = alldiag_pivot.drop('isalz', axis=1).astype('int32')"
   ]
  },
  {
   "cell_type": "code",
   "execution_count": null,
   "metadata": {},
   "outputs": [],
   "source": [
    "%%time\n",
    "mapper = umap.UMAP(metric='cosine', random_state=42, low_memory=True, verbose=1).fit(X)"
   ]
  },
  {
   "cell_type": "code",
   "execution_count": null,
   "metadata": {},
   "outputs": [],
   "source": [
    "import pickle\n",
    "\n",
    "filename = 'pickle_files/UMAP/AD_MI_phenotype_umap.model.pkl'\n",
    "\n",
    "if os.path.isdir('pickle_files'):\n",
    "    if os.path.isdir('pickle_files/UMAP'):\n",
    "        # save the model to disk\n",
    "        pickle.dump(mapper, open(filename, 'wb'))\n",
    "    else:\n",
    "        os.mkdir('pickle_files/UMAP')\n",
    "        pickle.dump(mapper, open(filename, 'wb'))\n",
    "else:\n",
    "    os.mkdir('pickle_files')\n",
    "    os.mkdir('pickle_files/UMAP')\n",
    "    pickle.dump(mapper, open(filename, 'wb'))\n",
    "\n",
    "# load file\n",
    "mapper = pickle.load(open(filename, 'rb'))\n"
   ]
  },
  {
   "cell_type": "code",
   "execution_count": null,
   "metadata": {},
   "outputs": [],
   "source": [
    "%%time\n",
    "X_embedded = mapper.transform(X)"
   ]
  },
  {
   "cell_type": "code",
   "execution_count": null,
   "metadata": {},
   "outputs": [],
   "source": [
    "# reset index for y\n",
    "y = y.reset_index()\n",
    "y = y['isalz']"
   ]
  },
  {
   "cell_type": "code",
   "execution_count": null,
   "metadata": {},
   "outputs": [],
   "source": [
    "y = y.rename('Patients')\n",
    "y = y.replace({1 : 'Alzheimer',\n",
    "               0 : 'Control'})"
   ]
  },
  {
   "cell_type": "code",
   "execution_count": null,
   "metadata": {
    "scrolled": true
   },
   "outputs": [],
   "source": [
    "# Make Figures and Figures/UMAP folder if they don't exist already\n",
    "if os.path.isdir('Figures'):\n",
    "    if os.path.isdir('Figures/UMAP'):\n",
    "        print('Figures/UMAP file path already exists.')\n",
    "    else:\n",
    "        print('Making UMAP directory...')\n",
    "        os.mkdir('Figures/UMAP')\n",
    "        print('Figures/UMAP file path created.')\n",
    "else:\n",
    "    print('Making Figures directory...')\n",
    "    os.mkdir('Figures')\n",
    "    print('Making UMAP directory...')\n",
    "    os.mkdir('Figures/UMAP')\n",
    "    print('Figures/UMAP file path created.')   "
   ]
  },
  {
   "cell_type": "code",
   "execution_count": null,
   "metadata": {},
   "outputs": [],
   "source": [
    "savefigs = True"
   ]
  },
  {
   "cell_type": "code",
   "execution_count": null,
   "metadata": {},
   "outputs": [],
   "source": [
    "with sns.color_palette(\"Set1\"):\n",
    "    fig = plt.figure(figsize=(10,8))\n",
    "    indices = np.arange(X_embedded.shape[0])\n",
    "    sns.scatterplot(x=X_embedded[indices ,0], \n",
    "                    y=X_embedded[indices ,1], \n",
    "                    hue=y[indices],\n",
    "                    s=12, \n",
    "                    linewidth=.0, alpha=.6,\n",
    "                    hue_order=['Alzheimer', 'Control'])\n",
    "    ax = plt.gca()\n",
    "    ax.set(xticks=[], yticks=[], facecolor='white')\n",
    "    plt.title('Phenotypes as Features - UMAP')\n",
    "    plt.xlabel('UMAP Component 1')\n",
    "    plt.ylabel('UMAP Component 2')\n",
    "    \n",
    "    if savefigs:\n",
    "        plt.savefig('Figures/UMAP/Fig_2A.pdf', filetype=\n",
    "                    'pdf', \n",
    "                    dpi=300, \n",
    "                    bbox_inches='tight')"
   ]
  },
  {
   "cell_type": "code",
   "execution_count": null,
   "metadata": {},
   "outputs": [],
   "source": [
    "from scipy.stats import mannwhitneyu\n",
    "ADvals = X_embedded[y.values == 'Alzheimer',:]\n",
    "convals = X_embedded[y.values == 'Control',:]\n",
    "print('Axis 1: ',mannwhitneyu(ADvals[:,0], convals[:,0]))\n",
    "print('Axis 2: ', mannwhitneyu(ADvals[:,1], convals[:,1]))"
   ]
  },
  {
   "cell_type": "code",
   "execution_count": null,
   "metadata": {},
   "outputs": [],
   "source": [
    "with sns.axes_style(\"white\"):\n",
    "    with sns.color_palette(\"Set1\"):\n",
    "        plt.figure(figsize = (5,3))\n",
    "        sns.violinplot(x=X_embedded[:,0], y=y, bw=.1)\n",
    "        plt.xlabel('UMAP Component 1') \n",
    "        if savefigs:\n",
    "            plt.savefig('Figures/UMAP/Fig_2B.pdf', \n",
    "                        filetype='pdf', \n",
    "                        dpi=300, \n",
    "                        bbox_inches='tight')\n",
    "        \n",
    "        plt.figure(figsize=(5,3))\n",
    "        sns.violinplot(x=X_embedded[:,1], y=y, bw=.1)\n",
    "        plt.xlabel('UMAP Component 2')\n",
    "        if savefigs: \n",
    "            plt.savefig('Figures/UMAP/Fig_2C.pdf', \n",
    "                        filetype='pdf', \n",
    "                        dpi=300, \n",
    "                        bbox_inches='tight')"
   ]
  },
  {
   "cell_type": "code",
   "execution_count": null,
   "metadata": {},
   "outputs": [],
   "source": [
    "# Change column name to Identitied Race and Ethnicity\n",
    "z = z.rename({'UCSFDerivedRaceEthnicity_Clean' : 'Identified Race and Ethnicity'}, axis=1) "
   ]
  },
  {
   "cell_type": "code",
   "execution_count": null,
   "metadata": {},
   "outputs": [],
   "source": [
    "z.columns"
   ]
  },
  {
   "cell_type": "code",
   "execution_count": null,
   "metadata": {},
   "outputs": [],
   "source": [
    "col = 'Identified Race and Ethnicity'"
   ]
  },
  {
   "cell_type": "code",
   "execution_count": null,
   "metadata": {},
   "outputs": [],
   "source": [
    "# Unequal because of control patients not having a diagnosis\n",
    "z[col].value_counts().sort_values()"
   ]
  },
  {
   "cell_type": "code",
   "execution_count": null,
   "metadata": {},
   "outputs": [],
   "source": [
    "# control patients without an associated phecode and phenotype:\n",
    "con_no_diag = con_diag[con_diag['phenotype'].isnull()]['person_id'].unique()"
   ]
  },
  {
   "cell_type": "code",
   "execution_count": null,
   "metadata": {},
   "outputs": [],
   "source": [
    "con_demo[con_demo['person_id'].isin(con_no_diag)]['UCSFDerivedRaceEthnicity_Clean'].value_counts().sort_values()"
   ]
  },
  {
   "cell_type": "markdown",
   "metadata": {},
   "source": [
    "Adding together should yield 1266 patients for each race/ethnicity"
   ]
  },
  {
   "cell_type": "code",
   "execution_count": null,
   "metadata": {},
   "outputs": [],
   "source": [
    "z[col].value_counts().sort_values() + \\\n",
    "con_demo[con_demo['person_id'].isin(con_no_diag)]['UCSFDerivedRaceEthnicity_Clean'].value_counts().sort_values()"
   ]
  },
  {
   "cell_type": "code",
   "execution_count": null,
   "metadata": {},
   "outputs": [],
   "source": [
    "# Change from Latinx to Latine for concordance with Romance Languages\n",
    "z[col] = z[col].replace({'Latinx' : 'Latine'})"
   ]
  },
  {
   "cell_type": "code",
   "execution_count": null,
   "metadata": {},
   "outputs": [],
   "source": [
    "z[col].reset_index()[col][indices].unique()"
   ]
  },
  {
   "cell_type": "markdown",
   "metadata": {},
   "source": [
    "### Identified Race and Ethnicity"
   ]
  },
  {
   "cell_type": "code",
   "execution_count": null,
   "metadata": {
    "scrolled": true
   },
   "outputs": [],
   "source": [
    "savefigs = True\n",
    "\n",
    "fig = plt.figure(figsize=(8,6))\n",
    "sns.scatterplot(x=X_embedded[indices,0],\n",
    "                y=X_embedded[indices,1], \n",
    "                hue=z[col].reset_index()[col][indices], \n",
    "                hue_order=['Asian', \n",
    "                           'Black or African American',\n",
    "                           'Latine', \n",
    "                           'White or Caucasian'],\n",
    "                s=12, \n",
    "                linewidth=0,\n",
    "                alpha=.6,\n",
    "                palette = 'Set2')\n",
    "ax = plt.gca()\n",
    "ax.set(xticks=[], yticks=[], facecolor='white')\n",
    "plt.title('Race and Ethnicity', fontsize=12, fontweight='bold')\n",
    "plt.legend(bbox_to_anchor=(-0.1, 1))\n",
    "\n",
    "if True: \n",
    "    plt.savefig('Figures/UMAP/Fig_2D.pdf', bbox_inches='tight')\n",
    "plt.show()"
   ]
  },
  {
   "cell_type": "code",
   "execution_count": null,
   "metadata": {},
   "outputs": [],
   "source": [
    "with sns.color_palette(\"Set2\"):\n",
    "    val1 = X_embedded[z[col].values == 'Asian',:]\n",
    "    val2 = X_embedded[z[col].values == 'Black or African American',:]\n",
    "    val3 = X_embedded[z[col].values == 'Latine',:]\n",
    "    val4 = X_embedded[z[col].values == 'White or Caucasian',:]\n",
    "    \n",
    "    \n",
    "    sns.violinplot(x=X_embedded[:,0], \n",
    "                   y=z[col], \n",
    "                   bw=.1,\n",
    "                   order=['Asian', 'Black or African American', 'Latine', 'White or Caucasian'])\n",
    "    plt.xlabel('PC1')\n",
    "    plt.xlabel(\"UMAP Component 1\")\n",
    "    \n",
    "    if savefigs: \n",
    "        plt.savefig('Figures/UMAP/Fig_2E.pdf', \n",
    "                    filetype='png', \n",
    "                    dpi=300, \n",
    "                    bbox_inches='tight')\n",
    "    \n",
    "    plt.show()\n",
    "    \n",
    "    sns.violinplot(x=X_embedded[:,1], \n",
    "                   y=z[col], \n",
    "                   bw=.1,\n",
    "                   order=['Asian', \n",
    "                          'Black or African American', \n",
    "                          'Latine', \n",
    "                          'White or Caucasian'])\n",
    "    plt.xlabel('PC2')\n",
    "    \n",
    "    plt.xlabel(\"UMAP Component 2\")\n",
    "    \n",
    "    if savefigs: \n",
    "        plt.savefig('Figures/UMAP/Fig_2F.pdf', \n",
    "                    filetype='png', \n",
    "                    dpi=300, \n",
    "                    bbox_inches='tight')\n",
    "   \n",
    "    plt.show()"
   ]
  },
  {
   "cell_type": "markdown",
   "metadata": {},
   "source": [
    "### Saving identified race and ethnicity values for Dunn's test in R studio"
   ]
  },
  {
   "cell_type": "code",
   "execution_count": null,
   "metadata": {},
   "outputs": [],
   "source": [
    "base_dir= os.getcwd()"
   ]
  },
  {
   "cell_type": "code",
   "execution_count": null,
   "metadata": {},
   "outputs": [],
   "source": [
    "if not os.path.isdir(base_dir + \"\\\\Tables\"):\n",
    "    print('Making Tables directory...')\n",
    "    os.mkdir(base_dir + \"\\\\Tables\")\n",
    "if not os.path.isdir(base_dir + \"\\\\Tables\\\\UMAP\"):\n",
    "    print('Making UMAP directory...')\n",
    "    os.mkdir(base_dir + \"\\\\Tables\\\\UMAP\")\n",
    "    print('Making UMAP directory...')"
   ]
  },
  {
   "cell_type": "code",
   "execution_count": null,
   "metadata": {},
   "outputs": [],
   "source": [
    "# Convert to pandas dataframes\n",
    "A_RE = pd.DataFrame(val1)\n",
    "B_RE = pd.DataFrame(val2)\n",
    "L_RE = pd.DataFrame(val3)\n",
    "W_RE = pd.DataFrame(val4)"
   ]
  },
  {
   "cell_type": "code",
   "execution_count": null,
   "metadata": {},
   "outputs": [],
   "source": [
    "# Save as csv\n",
    "for re_df, re_name in zip([A_RE, B_RE, L_RE, W_RE], ['Asian', 'Black', 'Latine', 'White']):\n",
    "    re_df.to_csv(base_dir + '\\\\Tables\\\\UMAP\\\\UMAP_RE_UCSF_' + re_name + '.csv')"
   ]
  },
  {
   "cell_type": "code",
   "execution_count": null,
   "metadata": {},
   "outputs": [],
   "source": []
  }
 ],
 "metadata": {
  "kernelspec": {
   "display_name": "Python 3",
   "language": "python",
   "name": "python3"
  },
  "language_info": {
   "codemirror_mode": {
    "name": "ipython",
    "version": 3
   },
   "file_extension": ".py",
   "mimetype": "text/x-python",
   "name": "python",
   "nbconvert_exporter": "python",
   "pygments_lexer": "ipython3",
   "version": "3.8.3"
  },
  "toc": {
   "base_numbering": 1,
   "nav_menu": {},
   "number_sections": true,
   "sideBar": true,
   "skip_h1_title": false,
   "title_cell": "Table of Contents",
   "title_sidebar": "Contents",
   "toc_cell": true,
   "toc_position": {},
   "toc_section_display": true,
   "toc_window_display": false
  }
 },
 "nbformat": 4,
 "nbformat_minor": 4
}
