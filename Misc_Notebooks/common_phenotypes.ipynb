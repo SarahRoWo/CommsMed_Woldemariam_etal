{
 "cells": [
  {
   "cell_type": "markdown",
   "metadata": {},
   "source": [
    "## Table of phenotypes for AD patients that overlap for all racialized populations"
   ]
  },
  {
   "cell_type": "code",
   "execution_count": 1,
   "metadata": {},
   "outputs": [],
   "source": [
    "import pandas as pd\n",
    "import seaborn as sns\n",
    "%matplotlib inline\n",
    "import matplotlib.pyplot as plt\n",
    "import numpy as np\n",
    "import os\n",
    "from scipy.stats import norm\n",
    "from scipy.stats import chi2_contingency\n",
    "import scipy.stats as stats\n",
    "from math import log10, log2\n",
    "from tqdm import tqdm\n",
    "import warnings\n",
    "# 20211102 Adding in statsmodels oddsratio_confint\n",
    "import statsmodels.stats.contingency_tables \n",
    "import statsmodels.api as sm\n",
    "warnings.filterwarnings(\"ignore\", category=FutureWarning) "
   ]
  },
  {
   "cell_type": "code",
   "execution_count": 2,
   "metadata": {},
   "outputs": [],
   "source": [
    "os.chdir(\"..\")"
   ]
  },
  {
   "cell_type": "code",
   "execution_count": 3,
   "metadata": {},
   "outputs": [],
   "source": [
    "pd.set_option('display.max_rows', 200)\n",
    "np.set_printoptions(threshold=50)"
   ]
  },
  {
   "cell_type": "code",
   "execution_count": 4,
   "metadata": {},
   "outputs": [],
   "source": [
    "diagkeys = ['phenotype']"
   ]
  },
  {
   "cell_type": "code",
   "execution_count": 5,
   "metadata": {},
   "outputs": [],
   "source": [
    "%run -i setup_functions.py"
   ]
  },
  {
   "cell_type": "markdown",
   "metadata": {},
   "source": [
    "# Import data"
   ]
  },
  {
   "cell_type": "code",
   "execution_count": 6,
   "metadata": {},
   "outputs": [],
   "source": [
    "total_ad = 7409 #Total alzheimer patients\n",
    "total_con = 7409*2 #Total control patients"
   ]
  },
  {
   "cell_type": "code",
   "execution_count": 7,
   "metadata": {},
   "outputs": [],
   "source": [
    "# Specifically Diagnoses Names\n",
    "ad_diag_all = pd.read_csv('Diagnoses/phecode_diagnoses/ad_diagnoses.csv')\n",
    "\n",
    "con_diag_all = pd.read_csv('Diagnoses/phecode_diagnoses/con_diagnoses.csv')\n",
    "\n",
    "# demographics\n",
    "ad_demo = pd.read_csv('Demographics/ad_demographics.csv')\n",
    "con_demo = pd.read_csv('Demographics/con_demographics.csv')"
   ]
  },
  {
   "cell_type": "code",
   "execution_count": 8,
   "metadata": {},
   "outputs": [],
   "source": [
    "# add column that indicates order icd10_chapter\n",
    "# NOTE: icd10_chapter ROUGHLY corresponds to icd-10 chapters, and some chapters are not included\n",
    "ad_diag_all['chp_order'] = ad_diag_all['icd10_chapter'].apply(ICDname_order)\n",
    "con_diag_all['chp_order'] = con_diag_all['icd10_chapter'].apply(ICDname_order)"
   ]
  },
  {
   "cell_type": "code",
   "execution_count": 9,
   "metadata": {},
   "outputs": [],
   "source": [
    "# Only keep diagnoses mapped to phecodes that are organized into ICD-10 inspired chapters\n",
    "ad_diag = ad_diag_all[~ad_diag_all['icd10_chapter'].isnull()]\n",
    "con_diag = con_diag_all[~con_diag_all['icd10_chapter'].isnull()]"
   ]
  },
  {
   "cell_type": "code",
   "execution_count": 10,
   "metadata": {},
   "outputs": [],
   "source": [
    "ad_diag_null = ad_diag_all[ad_diag_all['icd10_chapter'].isnull()]"
   ]
  },
  {
   "cell_type": "code",
   "execution_count": 11,
   "metadata": {},
   "outputs": [
    {
     "data": {
      "text/plain": [
       "7409"
      ]
     },
     "execution_count": 11,
     "metadata": {},
     "output_type": "execute_result"
    }
   ],
   "source": [
    "# ad_diag retains all patients; con_diag does not\n",
    "\n",
    "# Number of unique AD patients:\n",
    "ad_diag['person_id'].drop_duplicates().shape[0]"
   ]
  },
  {
   "cell_type": "code",
   "execution_count": 12,
   "metadata": {},
   "outputs": [
    {
     "data": {
      "text/plain": [
       "7610"
      ]
     },
     "execution_count": 12,
     "metadata": {},
     "output_type": "execute_result"
    }
   ],
   "source": [
    "# Number of unique control patients: almost half were removed this way\n",
    "con_diag['person_id'].drop_duplicates().shape[0]"
   ]
  },
  {
   "cell_type": "code",
   "execution_count": 13,
   "metadata": {},
   "outputs": [],
   "source": [
    "# Merge con_demo info to retain the remaining patients:\n",
    "con_diag = con_demo['person_id'].to_frame().merge(con_diag,\n",
    "                                                  how='left',\n",
    "                                                  on='person_id')"
   ]
  },
  {
   "cell_type": "code",
   "execution_count": 14,
   "metadata": {},
   "outputs": [
    {
     "data": {
      "text/plain": [
       "14818"
      ]
     },
     "execution_count": 14,
     "metadata": {},
     "output_type": "execute_result"
    }
   ],
   "source": [
    "# Check that all patients now included\n",
    "con_diag['person_id'].drop_duplicates().shape[0]"
   ]
  },
  {
   "cell_type": "markdown",
   "metadata": {},
   "source": [
    "#### Only keep the following columns: 'person_id', 'PatientDurableKey', 'phecode', 'phenotype', 'icd10_chapter'"
   ]
  },
  {
   "cell_type": "code",
   "execution_count": 15,
   "metadata": {},
   "outputs": [],
   "source": [
    "ad_diag = ad_diag[['person_id', \n",
    "                   'PatientDurableKey',\n",
    "                   'phecode',\n",
    "                   'phenotype',\n",
    "                   'icd10_chapter']].copy().drop_duplicates()\n",
    "con_diag = con_diag[['person_id', \n",
    "                     'PatientDurableKey',\n",
    "                     'phecode',\n",
    "                     'phenotype',\n",
    "                     'icd10_chapter']].copy().drop_duplicates()"
   ]
  },
  {
   "cell_type": "markdown",
   "metadata": {},
   "source": [
    "## Include UCSFDerivedRaceEthnicity_Clean column to ad_diag and con_diag dataframes"
   ]
  },
  {
   "cell_type": "code",
   "execution_count": 16,
   "metadata": {},
   "outputs": [],
   "source": [
    "# Add race/ethnicity column to ad_diag df\n",
    "ad_diag = ad_diag.merge(ad_demo[['person_id', 'UCSFDerivedRaceEthnicity_Clean']], \n",
    "                                 how='left', \n",
    "                                 left_on='person_id', \n",
    "                                 right_on='person_id')"
   ]
  },
  {
   "cell_type": "code",
   "execution_count": 17,
   "metadata": {},
   "outputs": [],
   "source": [
    "# Add race/ethnicity column to con_diag df\n",
    "con_diag = con_diag.merge(con_demo[['person_id', 'UCSFDerivedRaceEthnicity_Clean']], \n",
    "                          how='left', \n",
    "                          left_on='person_id', \n",
    "                          right_on='person_id')"
   ]
  },
  {
   "cell_type": "code",
   "execution_count": 18,
   "metadata": {},
   "outputs": [
    {
     "data": {
      "text/plain": [
       "array(['White or Caucasian', 'Unknown/Declined', 'Other', 'Asian',\n",
       "       'Black or African American', 'Latinx',\n",
       "       'Native Hawaiian or Other Pacific Islander',\n",
       "       'American Indian or Alaska Native', 'Multi-Race/Ethnicity'],\n",
       "      dtype=object)"
      ]
     },
     "execution_count": 18,
     "metadata": {},
     "output_type": "execute_result"
    }
   ],
   "source": [
    "ad_diag['UCSFDerivedRaceEthnicity_Clean'].unique()"
   ]
  },
  {
   "cell_type": "markdown",
   "metadata": {},
   "source": [
    "### Only keep MatchIt person_ids for ad_diag and con_diag"
   ]
  },
  {
   "cell_type": "code",
   "execution_count": 19,
   "metadata": {},
   "outputs": [],
   "source": [
    "# Get person_ids for MatchIt Alzheimer's and Control patients\n",
    "ad_MatchIt = pd.read_csv('Demographics/RE_MI_ad_demo.csv')\n",
    "con_MatchIt = pd.read_csv('Demographics/RE_MI_con_demo.csv')"
   ]
  },
  {
   "cell_type": "code",
   "execution_count": 20,
   "metadata": {},
   "outputs": [
    {
     "data": {
      "text/plain": [
       "(1688, 10)"
      ]
     },
     "execution_count": 20,
     "metadata": {},
     "output_type": "execute_result"
    }
   ],
   "source": [
    "# 422 patients each\n",
    "ad_MatchIt.shape"
   ]
  },
  {
   "cell_type": "code",
   "execution_count": 21,
   "metadata": {},
   "outputs": [
    {
     "data": {
      "text/plain": [
       "(3376, 10)"
      ]
     },
     "execution_count": 21,
     "metadata": {},
     "output_type": "execute_result"
    }
   ],
   "source": [
    "# 844 patients each\n",
    "con_MatchIt.shape"
   ]
  },
  {
   "cell_type": "code",
   "execution_count": 22,
   "metadata": {},
   "outputs": [],
   "source": [
    "ad_diag = ad_diag[ad_diag['person_id'].isin(ad_MatchIt['person_id'])]\n",
    "con_diag = con_diag[con_diag['person_id'].isin(con_MatchIt['person_id'])]"
   ]
  },
  {
   "cell_type": "markdown",
   "metadata": {},
   "source": [
    "#### Phenotypes in common for each racialized population"
   ]
  },
  {
   "cell_type": "code",
   "execution_count": 23,
   "metadata": {},
   "outputs": [],
   "source": [
    "r_and_e = ad_diag['UCSFDerivedRaceEthnicity_Clean'].unique()\n",
    "\n",
    "re_phenotypes = dict()\n",
    "\n",
    "# get phenotypes present for each R&E for AD and control patients\n",
    "for re in r_and_e:\n",
    "    re_phenotypes[re+'_AD'] = set(ad_diag[ad_diag['UCSFDerivedRaceEthnicity_Clean'] == re]['phenotype'].unique())\n",
    "    re_phenotypes[re+'_con'] = set(con_diag[con_diag['UCSFDerivedRaceEthnicity_Clean'] == re]['phenotype'].unique())"
   ]
  },
  {
   "cell_type": "code",
   "execution_count": 24,
   "metadata": {},
   "outputs": [
    {
     "data": {
      "text/plain": [
       "array(['White or Caucasian', 'Black or African American', 'Latinx',\n",
       "       'Asian'], dtype=object)"
      ]
     },
     "execution_count": 24,
     "metadata": {},
     "output_type": "execute_result"
    }
   ],
   "source": [
    "r_and_e"
   ]
  },
  {
   "cell_type": "code",
   "execution_count": 25,
   "metadata": {},
   "outputs": [],
   "source": [
    "common_phenotypes_AD = re_phenotypes['Asian_AD'] & \\\n",
    "                    re_phenotypes['Black or African American_AD'] & \\\n",
    "                    re_phenotypes['Latinx_AD'] & \\\n",
    "                    re_phenotypes['White or Caucasian_AD']"
   ]
  },
  {
   "cell_type": "code",
   "execution_count": 26,
   "metadata": {},
   "outputs": [],
   "source": [
    "common_phenotypes_con = re_phenotypes['Asian_con'] & \\\n",
    "                    re_phenotypes['Black or African American_con'] & \\\n",
    "                    re_phenotypes['Latinx_con'] & \\\n",
    "                    re_phenotypes['White or Caucasian_con']"
   ]
  },
  {
   "cell_type": "code",
   "execution_count": 27,
   "metadata": {},
   "outputs": [
    {
     "data": {
      "text/plain": [
       "931"
      ]
     },
     "execution_count": 27,
     "metadata": {},
     "output_type": "execute_result"
    }
   ],
   "source": [
    "len(common_phenotypes_AD)"
   ]
  },
  {
   "cell_type": "code",
   "execution_count": 28,
   "metadata": {},
   "outputs": [
    {
     "data": {
      "text/plain": [
       "898"
      ]
     },
     "execution_count": 28,
     "metadata": {},
     "output_type": "execute_result"
    }
   ],
   "source": [
    "len(common_phenotypes_con)"
   ]
  },
  {
   "cell_type": "code",
   "execution_count": 29,
   "metadata": {},
   "outputs": [],
   "source": [
    "common_phenotypes_UCSF = common_phenotypes_AD | common_phenotypes_con"
   ]
  },
  {
   "cell_type": "code",
   "execution_count": 30,
   "metadata": {},
   "outputs": [
    {
     "data": {
      "text/plain": [
       "1056"
      ]
     },
     "execution_count": 30,
     "metadata": {},
     "output_type": "execute_result"
    }
   ],
   "source": [
    "len(common_phenotypes_UCSF)"
   ]
  },
  {
   "cell_type": "markdown",
   "metadata": {},
   "source": [
    "#### Phenotypes overlapping for both AD and control"
   ]
  },
  {
   "cell_type": "code",
   "execution_count": 31,
   "metadata": {},
   "outputs": [],
   "source": [
    "common_phenotypes_UCSF_dict = {'common_phenotypes_UCSF' : list(common_phenotypes_UCSF)}\n",
    "common_phenotypes_UCSF_pd = pd.DataFrame.from_dict(common_phenotypes_UCSF_dict)"
   ]
  },
  {
   "cell_type": "code",
   "execution_count": 32,
   "metadata": {},
   "outputs": [],
   "source": [
    "# Save\n",
    "common_phenotypes_UCSF_pd.sort_values(by='common_phenotypes_UCSF').to_csv('Tables/common_phenotypes_UCSF.csv')"
   ]
  },
  {
   "cell_type": "markdown",
   "metadata": {},
   "source": [
    "#### Phenotypes overlapping for AD only"
   ]
  },
  {
   "cell_type": "code",
   "execution_count": 33,
   "metadata": {},
   "outputs": [],
   "source": [
    "common_phenotypes_UCSF_AD_dict = {'common_phenotypes_UCSF_AD' : list(common_phenotypes_AD)}\n",
    "common_phenotypes_UCSF_AD_pd = pd.DataFrame.from_dict(common_phenotypes_UCSF_AD_dict)"
   ]
  },
  {
   "cell_type": "code",
   "execution_count": 34,
   "metadata": {},
   "outputs": [],
   "source": [
    "# Save\n",
    "common_phenotypes_UCSF_AD_pd.sort_values(by='common_phenotypes_UCSF_AD').to_csv('Tables/common_phenotypes_UCSF_AD.csv')"
   ]
  },
  {
   "cell_type": "code",
   "execution_count": null,
   "metadata": {},
   "outputs": [],
   "source": []
  }
 ],
 "metadata": {
  "kernelspec": {
   "display_name": "Python 3",
   "language": "python",
   "name": "python3"
  },
  "language_info": {
   "codemirror_mode": {
    "name": "ipython",
    "version": 3
   },
   "file_extension": ".py",
   "mimetype": "text/x-python",
   "name": "python",
   "nbconvert_exporter": "python",
   "pygments_lexer": "ipython3",
   "version": "3.8.3"
  }
 },
 "nbformat": 4,
 "nbformat_minor": 4
}
