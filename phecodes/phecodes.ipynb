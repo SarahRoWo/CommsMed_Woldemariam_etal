{
 "cells": [
  {
   "cell_type": "markdown",
   "metadata": {},
   "source": [
    "### Phecodes consolidated\n",
    "Putting ICD9- and ICD10- mapped phecodes into one csv file. This version maps phecodes to corresponding phenotype from ICD-10 mapped phecodes where applicable."
   ]
  },
  {
   "cell_type": "code",
   "execution_count": null,
   "metadata": {},
   "outputs": [],
   "source": [
    "import pandas as pd\n",
    "import os"
   ]
  },
  {
   "cell_type": "code",
   "execution_count": null,
   "metadata": {},
   "outputs": [],
   "source": [
    "# Read in phecode files\n",
    "icd9 = pd.read_csv(\"phecode_icd9_rolled.csv\",  encoding='latin-1')\n",
    "icd10 = pd.read_csv(\"Phecode_map_v1_2_icd10cm_beta.csv\",  encoding='latin-1')"
   ]
  },
  {
   "cell_type": "code",
   "execution_count": null,
   "metadata": {},
   "outputs": [],
   "source": [
    "len(icd10['phecode'].unique())"
   ]
  },
  {
   "cell_type": "code",
   "execution_count": null,
   "metadata": {},
   "outputs": [],
   "source": [
    "icd9[icd9['ICD9 String'] == 'Cholera']"
   ]
  },
  {
   "cell_type": "code",
   "execution_count": null,
   "metadata": {},
   "outputs": [],
   "source": [
    "icd10[icd10['icd10cm_str'] == 'Cholera']"
   ]
  },
  {
   "cell_type": "code",
   "execution_count": null,
   "metadata": {},
   "outputs": [],
   "source": [
    "# Remove excess columns\n",
    "icd9 = icd9.drop(['Rollup', 'Leaf', 'Ignore Bool'], axis=1)\n",
    "icd10 = icd10.drop(['leaf', 'rollup'], axis=1)"
   ]
  },
  {
   "cell_type": "code",
   "execution_count": null,
   "metadata": {},
   "outputs": [],
   "source": [
    "# Change column names so that they are the same in the two dataframes:\n",
    "# icd\n",
    "# icd_string\n",
    "# phecode\n",
    "# phenotype\n",
    "# excl_phecodes\n",
    "# excl_phenotypes"
   ]
  },
  {
   "cell_type": "code",
   "execution_count": null,
   "metadata": {},
   "outputs": [],
   "source": [
    "icd9 = icd9.rename({'ICD9' : 'icd',\n",
    "                    'ICD9 String' : 'icd_string',\n",
    "                    'PheCode' : 'phecode',\n",
    "                    'Phenotype' : 'phenotype',\n",
    "                    'Excl. Phecodes' : 'excl_phecodes',\n",
    "                    'Excl. Phenotypes' : 'excl_phenotypes'}, axis=1)\n",
    "    \n",
    "icd10 = icd10.rename({'icd10cm' : 'icd',\n",
    "                      'icd10cm_str' : 'icd_string',\n",
    "                      'phecode_str' : 'phenotype',\n",
    "                      'exclude_range' : 'excl_phecodes',\n",
    "                      'exclude_name' : 'excl_phenotypes'}, axis=1)"
   ]
  },
  {
   "cell_type": "code",
   "execution_count": null,
   "metadata": {},
   "outputs": [],
   "source": [
    "# Check same columns\n",
    "icd9.columns == icd10.columns"
   ]
  },
  {
   "cell_type": "code",
   "execution_count": null,
   "metadata": {},
   "outputs": [],
   "source": [
    "len(icd9['phecode'].unique())"
   ]
  },
  {
   "cell_type": "code",
   "execution_count": null,
   "metadata": {},
   "outputs": [],
   "source": [
    "len(icd10['phecode'].unique())"
   ]
  },
  {
   "cell_type": "markdown",
   "metadata": {},
   "source": [
    "#### Map ICD-9-mapped phecodes to corresponding phenotype for same ICD-10-mapped phecodes where applicable"
   ]
  },
  {
   "cell_type": "code",
   "execution_count": null,
   "metadata": {},
   "outputs": [],
   "source": [
    "# ICD-9-mapped phecodes also in ICD-10-mapped phecodes\n",
    "icd9_b = icd9[icd9['phecode'].isin(icd10['phecode'])]"
   ]
  },
  {
   "cell_type": "code",
   "execution_count": null,
   "metadata": {},
   "outputs": [],
   "source": [
    "icd9_b.shape"
   ]
  },
  {
   "cell_type": "code",
   "execution_count": null,
   "metadata": {},
   "outputs": [],
   "source": [
    "icd9_b[['phecode', 'phenotype']].drop_duplicates().shape"
   ]
  },
  {
   "cell_type": "code",
   "execution_count": null,
   "metadata": {},
   "outputs": [],
   "source": [
    "# ICD-9-mapped phecodes that are NOT in ICD-10-mapped phecodes\n",
    "# This will be left alone and eventually concatenated with icd9_b\n",
    "# after corresponding phenotypes are mapped for that dataframe\n",
    "icd9_only = icd9[~icd9['phecode'].isin(icd10['phecode'])]"
   ]
  },
  {
   "cell_type": "code",
   "execution_count": null,
   "metadata": {},
   "outputs": [],
   "source": [
    "# Only keep first three columns for icd9_b\n",
    "icd9_b = icd9_b[['icd', 'icd_string', 'phecode']]"
   ]
  },
  {
   "cell_type": "code",
   "execution_count": null,
   "metadata": {},
   "outputs": [],
   "source": [
    "# Merge ICD-10 phenotype, excl_phecodes, excl_phenotypes\n",
    "icd9_b = icd9_b.merge(icd10[['phecode', 'phenotype', 'excl_phecodes', 'excl_phenotypes']],\n",
    "                      how='inner',\n",
    "                      on='phecode').drop_duplicates()"
   ]
  },
  {
   "cell_type": "code",
   "execution_count": null,
   "metadata": {},
   "outputs": [],
   "source": [
    "icd9_b = icd9_b.reset_index().drop(['index'], axis=1)"
   ]
  },
  {
   "cell_type": "code",
   "execution_count": null,
   "metadata": {},
   "outputs": [],
   "source": [
    "# Concatenate icd9_b and icd9_only, replacing icd9\n",
    "icd9 = pd.concat([icd9_b, icd9_only])"
   ]
  },
  {
   "cell_type": "code",
   "execution_count": null,
   "metadata": {},
   "outputs": [],
   "source": [
    "# Concatenate\n",
    "icd = pd.concat([icd9, icd10])"
   ]
  },
  {
   "cell_type": "code",
   "execution_count": null,
   "metadata": {},
   "outputs": [],
   "source": [
    "icd.shape"
   ]
  },
  {
   "cell_type": "code",
   "execution_count": null,
   "metadata": {},
   "outputs": [],
   "source": [
    "# Check that concatenation worked\n",
    "(icd9.shape[0] + icd10.shape[0]) == icd.shape[0]"
   ]
  },
  {
   "cell_type": "markdown",
   "metadata": {},
   "source": [
    "Check only one phenotype per phecode"
   ]
  },
  {
   "cell_type": "code",
   "execution_count": null,
   "metadata": {},
   "outputs": [],
   "source": [
    "icd['phecode'].drop_duplicates().shape"
   ]
  },
  {
   "cell_type": "code",
   "execution_count": null,
   "metadata": {},
   "outputs": [],
   "source": [
    "icd['phenotype'].drop_duplicates().shape"
   ]
  },
  {
   "cell_type": "code",
   "execution_count": null,
   "metadata": {},
   "outputs": [],
   "source": [
    "icd[['phecode', 'phenotype']].drop_duplicates().shape"
   ]
  },
  {
   "cell_type": "code",
   "execution_count": null,
   "metadata": {},
   "outputs": [],
   "source": [
    "# Save\n",
    "# Database name: phecodes_v2\n",
    "#icd.to_csv('phecodes/all_phecodes_v2.csv', index=False)"
   ]
  },
  {
   "cell_type": "code",
   "execution_count": null,
   "metadata": {},
   "outputs": [],
   "source": [
    "pd.read_csv('all_phecodes_v2.csv')"
   ]
  },
  {
   "cell_type": "markdown",
   "metadata": {},
   "source": [
    "#### Make modified icd dataframe with excl_phenotypes corresponding to values in the icd10 dataframe\n"
   ]
  },
  {
   "cell_type": "code",
   "execution_count": null,
   "metadata": {},
   "outputs": [],
   "source": [
    "# Excluded phenotypes in icd10 phecodes roughly correspond to ICD10 categories\n",
    "icd10['excl_phenotypes'].value_counts()"
   ]
  },
  {
   "cell_type": "code",
   "execution_count": null,
   "metadata": {},
   "outputs": [],
   "source": [
    "# Excluded phenotypes in icd dataframe\n",
    "icd['excl_phenotypes'].value_counts()"
   ]
  },
  {
   "cell_type": "code",
   "execution_count": null,
   "metadata": {},
   "outputs": [],
   "source": [
    "icd.columns"
   ]
  },
  {
   "cell_type": "code",
   "execution_count": null,
   "metadata": {},
   "outputs": [],
   "source": [
    "icd_trunc = icd[['icd', 'icd_string', 'phecode', 'phenotype', 'excl_phecodes']]"
   ]
  },
  {
   "cell_type": "code",
   "execution_count": null,
   "metadata": {},
   "outputs": [],
   "source": [
    "# Need to drop duplicates because otherwise it'll be one row per phecode value found \n",
    "# in icd10. So for example, there are 30 rows of phecode == 8.0 in icd10 df, so this\n",
    "# phecode will show up 30x in the df below if duplicates are not dropped.\n",
    "icd_trunc = icd_trunc.merge(right=icd10[['phecode', 'excl_phenotypes']],\n",
    "                            on='phecode').drop_duplicates()"
   ]
  },
  {
   "cell_type": "code",
   "execution_count": null,
   "metadata": {},
   "outputs": [],
   "source": [
    "icd_trunc.shape"
   ]
  },
  {
   "cell_type": "code",
   "execution_count": null,
   "metadata": {},
   "outputs": [],
   "source": [
    "icd.shape"
   ]
  },
  {
   "cell_type": "code",
   "execution_count": null,
   "metadata": {},
   "outputs": [],
   "source": [
    "# Explore which phecodes are not in icd10 df\n",
    "icd[~icd['phecode'].isin(icd_trunc['phecode'])]"
   ]
  },
  {
   "cell_type": "code",
   "execution_count": null,
   "metadata": {},
   "outputs": [],
   "source": [
    "icd[~icd['phecode'].isin(icd_trunc['phecode'])]['excl_phenotypes'].value_counts().index.to_list()"
   ]
  },
  {
   "cell_type": "code",
   "execution_count": null,
   "metadata": {},
   "outputs": [],
   "source": [
    "icd_trunc['excl_phenotypes'].value_counts()"
   ]
  },
  {
   "cell_type": "code",
   "execution_count": null,
   "metadata": {},
   "outputs": [],
   "source": [
    "len(icd_trunc['excl_phenotypes'].value_counts())"
   ]
  },
  {
   "cell_type": "code",
   "execution_count": null,
   "metadata": {},
   "outputs": [],
   "source": [
    "# Save\n",
    "# Database name: phecodes_cat_v2\n",
    "icd_trunc.to_csv('cat_phecodes_v2.csv', index=False)"
   ]
  },
  {
   "cell_type": "code",
   "execution_count": null,
   "metadata": {},
   "outputs": [],
   "source": [
    "len(icd_trunc['phecode'].unique())"
   ]
  },
  {
   "cell_type": "code",
   "execution_count": null,
   "metadata": {},
   "outputs": [],
   "source": []
  }
 ],
 "metadata": {
  "kernelspec": {
   "display_name": "Python 3",
   "language": "python",
   "name": "python3"
  },
  "language_info": {
   "codemirror_mode": {
    "name": "ipython",
    "version": 3
   },
   "file_extension": ".py",
   "mimetype": "text/x-python",
   "name": "python",
   "nbconvert_exporter": "python",
   "pygments_lexer": "ipython3",
   "version": "3.8.3"
  }
 },
 "nbformat": 4,
 "nbformat_minor": 4
}
