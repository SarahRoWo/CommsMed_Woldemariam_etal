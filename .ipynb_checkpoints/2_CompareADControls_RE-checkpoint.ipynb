{
 "cells": [
  {
   "cell_type": "markdown",
   "metadata": {},
   "source": [
    "## Phenotype Differential Analysis\n",
    "\n",
    "Each phecode corresponds to one phenotype only.\n",
    "\n",
    "Comparing phenotypes across four racialized populations: patients who identify as Asian, (Non-Hispanic) Black or African American, Latine (Latinx in UCSF db) and (Non-Hispanic) White or Caucasian"
   ]
  },
  {
   "cell_type": "code",
   "execution_count": null,
   "metadata": {},
   "outputs": [],
   "source": [
    "%matplotlib inline\n",
    "import pandas as pd\n",
    "import seaborn as sns\n",
    "import matplotlib.pyplot as plt\n",
    "import upsetplot # for comparing all four racialized populations\n",
    "import numpy as np\n",
    "import os\n",
    "from scipy.stats import norm\n",
    "from scipy.stats import chi2_contingency\n",
    "import scipy.stats as stats\n",
    "from math import log10, log2\n",
    "from tqdm import tqdm\n",
    "import warnings\n",
    "# 20211102 Adding in statsmodels oddsratio_confint\n",
    "import statsmodels.stats.contingency_tables \n",
    "import statsmodels.api as sm\n",
    "# adding itertools\n",
    "from itertools import combinations\n",
    "warnings.filterwarnings(\"ignore\", category=FutureWarning) \n",
    "# display dataframes\n",
    "from IPython.display import display"
   ]
  },
  {
   "cell_type": "code",
   "execution_count": null,
   "metadata": {},
   "outputs": [],
   "source": [
    "pd.set_option('display.max_rows', 200)\n",
    "pd.set_option('display.max_columns', 50)\n",
    "np.set_printoptions(threshold=50)"
   ]
  },
  {
   "cell_type": "code",
   "execution_count": null,
   "metadata": {},
   "outputs": [],
   "source": [
    "diagkeys = ['phenotype']"
   ]
  },
  {
   "cell_type": "code",
   "execution_count": null,
   "metadata": {},
   "outputs": [],
   "source": [
    "%run -i setup_functions.py"
   ]
  },
  {
   "cell_type": "code",
   "execution_count": null,
   "metadata": {},
   "outputs": [],
   "source": [
    "os.getcwd()"
   ]
  },
  {
   "cell_type": "code",
   "execution_count": null,
   "metadata": {},
   "outputs": [],
   "source": [
    "# Change default font to Arial\n",
    "plt.rcParams.update({'font.family':'sans-serif'})\n",
    "plt.rcParams.update({'font.sans-serif':'Arial'})"
   ]
  },
  {
   "cell_type": "markdown",
   "metadata": {},
   "source": [
    "# Import data"
   ]
  },
  {
   "cell_type": "code",
   "execution_count": null,
   "metadata": {},
   "outputs": [],
   "source": [
    "total_ad = 7409 # Total patients with AD\n",
    "total_con = 7409*2 # Total control patients"
   ]
  },
  {
   "cell_type": "code",
   "execution_count": null,
   "metadata": {},
   "outputs": [],
   "source": [
    "# Specifically Diagnoses Names\n",
    "ad_diag_all = pd.read_csv('Diagnoses/phecode_diagnoses/ad_diagnoses.csv')\n",
    "\n",
    "con_diag_all = pd.read_csv('Diagnoses/phecode_diagnoses/con_diagnoses.csv')\n",
    "\n",
    "# demographics\n",
    "ad_demo = pd.read_csv('Demographics/ad_demographics.csv')\n",
    "con_demo = pd.read_csv('Demographics/con_demographics.csv')"
   ]
  },
  {
   "cell_type": "code",
   "execution_count": null,
   "metadata": {},
   "outputs": [],
   "source": [
    "# add column that indicates order icd10_chapter\n",
    "# NOTE: icd10_chapter ROUGHLY corresponds to icd-10 chapters, and some chapters are not included\n",
    "ad_diag_all['chp_order'] = ad_diag_all['icd10_chapter'].apply(ICDname_order)\n",
    "con_diag_all['chp_order'] = con_diag_all['icd10_chapter'].apply(ICDname_order)"
   ]
  },
  {
   "cell_type": "code",
   "execution_count": null,
   "metadata": {},
   "outputs": [],
   "source": [
    "# Only keep diagnoses mapped to phecodes that are organized into ICD-10 inspired chapters\n",
    "ad_diag = ad_diag_all[~ad_diag_all['icd10_chapter'].isnull()]\n",
    "con_diag = con_diag_all[~con_diag_all['icd10_chapter'].isnull()]"
   ]
  },
  {
   "cell_type": "code",
   "execution_count": null,
   "metadata": {},
   "outputs": [],
   "source": [
    "ad_diag_null = ad_diag_all[ad_diag_all['icd10_chapter'].isnull()]"
   ]
  },
  {
   "cell_type": "markdown",
   "metadata": {},
   "source": [
    "#### Check that phecodes correspond to one phenotype each"
   ]
  },
  {
   "cell_type": "code",
   "execution_count": null,
   "metadata": {},
   "outputs": [],
   "source": [
    "ad_diag['phecode'].drop_duplicates().shape"
   ]
  },
  {
   "cell_type": "code",
   "execution_count": null,
   "metadata": {},
   "outputs": [],
   "source": [
    "ad_diag['phenotype'].drop_duplicates().shape"
   ]
  },
  {
   "cell_type": "code",
   "execution_count": null,
   "metadata": {},
   "outputs": [],
   "source": [
    "con_diag['phecode'].drop_duplicates().shape"
   ]
  },
  {
   "cell_type": "code",
   "execution_count": null,
   "metadata": {},
   "outputs": [],
   "source": [
    "con_diag['phenotype'].drop_duplicates().shape"
   ]
  },
  {
   "cell_type": "markdown",
   "metadata": {},
   "source": [
    "#### Comparing shapes before and after removal of NaN icd10_chapter rows:"
   ]
  },
  {
   "cell_type": "code",
   "execution_count": null,
   "metadata": {},
   "outputs": [],
   "source": [
    "ad_diag_all.shape"
   ]
  },
  {
   "cell_type": "code",
   "execution_count": null,
   "metadata": {},
   "outputs": [],
   "source": [
    "ad_diag.shape"
   ]
  },
  {
   "cell_type": "code",
   "execution_count": null,
   "metadata": {},
   "outputs": [],
   "source": [
    "# percent of rows retained:\n",
    "round(((ad_diag.shape[0] / ad_diag_all.shape[0]) * 100), 2)"
   ]
  },
  {
   "cell_type": "code",
   "execution_count": null,
   "metadata": {},
   "outputs": [],
   "source": [
    "con_diag_all.shape"
   ]
  },
  {
   "cell_type": "code",
   "execution_count": null,
   "metadata": {},
   "outputs": [],
   "source": [
    "con_diag.shape"
   ]
  },
  {
   "cell_type": "code",
   "execution_count": null,
   "metadata": {},
   "outputs": [],
   "source": [
    "# percent of rows retained: (keeping in mind 7,208 rows are NaN; with this in mind, it's 93.79)\n",
    "round(((con_diag.shape[0] / con_diag_all.shape[0]) * 100), 2)"
   ]
  },
  {
   "cell_type": "markdown",
   "metadata": {},
   "source": [
    "#### Only keep the following columns: 'person_id', 'PatientDurableKey', 'phecode', 'phenotype', 'icd10_chapter'"
   ]
  },
  {
   "cell_type": "code",
   "execution_count": null,
   "metadata": {},
   "outputs": [],
   "source": [
    "ad_diag = ad_diag[['person_id', \n",
    "                   'PatientDurableKey',\n",
    "                   'phecode',\n",
    "                   'phenotype',\n",
    "                   'icd10_chapter']].copy().drop_duplicates()\n",
    "con_diag = con_diag[['person_id', \n",
    "                     'PatientDurableKey',\n",
    "                     'phecode',\n",
    "                     'phenotype',\n",
    "                     'icd10_chapter']].copy().drop_duplicates()"
   ]
  },
  {
   "cell_type": "markdown",
   "metadata": {},
   "source": [
    "**Only keep phenotypes found for UCSF patients with AD**"
   ]
  },
  {
   "cell_type": "code",
   "execution_count": null,
   "metadata": {},
   "outputs": [],
   "source": [
    "common_phenotypes_UCSF_AD_df = pd.read_csv('Tables/common_phenotypes_UCSF_AD.csv')\n",
    "common_phenotypes_UCSF_AD = common_phenotypes_UCSF_AD_df['common_phenotypes_UCSF_AD']\n",
    "ad_diag = ad_diag[ad_diag['phenotype'].isin(common_phenotypes_UCSF_AD)]\n",
    "con_diag = con_diag[con_diag['phenotype'].isin(common_phenotypes_UCSF_AD)]"
   ]
  },
  {
   "cell_type": "markdown",
   "metadata": {},
   "source": [
    "AD patients' information"
   ]
  },
  {
   "cell_type": "code",
   "execution_count": null,
   "metadata": {},
   "outputs": [],
   "source": [
    "ad_diag['phenotype'].value_counts()"
   ]
  },
  {
   "cell_type": "code",
   "execution_count": null,
   "metadata": {},
   "outputs": [],
   "source": [
    "ad_diag.info()"
   ]
  },
  {
   "cell_type": "markdown",
   "metadata": {},
   "source": [
    "control patients' information"
   ]
  },
  {
   "cell_type": "code",
   "execution_count": null,
   "metadata": {
    "scrolled": true
   },
   "outputs": [],
   "source": [
    "con_diag['phenotype'].value_counts()"
   ]
  },
  {
   "cell_type": "code",
   "execution_count": null,
   "metadata": {
    "scrolled": true
   },
   "outputs": [],
   "source": [
    "con_diag.info()"
   ]
  },
  {
   "cell_type": "code",
   "execution_count": null,
   "metadata": {},
   "outputs": [],
   "source": [
    "# ad_diag retains all patients; con_diag does not\n",
    "\n",
    "# Number of unique AD patients:\n",
    "ad_diag['person_id'].drop_duplicates().shape[0]"
   ]
  },
  {
   "cell_type": "code",
   "execution_count": null,
   "metadata": {},
   "outputs": [],
   "source": [
    "# Number of unique control patients: over half were removed this way (50.3%)\n",
    "con_diag['person_id'].drop_duplicates().shape[0]"
   ]
  },
  {
   "cell_type": "code",
   "execution_count": null,
   "metadata": {},
   "outputs": [],
   "source": [
    "# Merge con_demo info to retain the remaining patients:\n",
    "con_diag = con_demo['person_id'].to_frame().merge(con_diag,\n",
    "                                                  how='left',\n",
    "                                                  on='person_id')"
   ]
  },
  {
   "cell_type": "code",
   "execution_count": null,
   "metadata": {},
   "outputs": [],
   "source": [
    "# Check that all patients now included\n",
    "con_diag['person_id'].drop_duplicates().shape[0]"
   ]
  },
  {
   "cell_type": "code",
   "execution_count": null,
   "metadata": {},
   "outputs": [],
   "source": [
    "ad_demo.info()"
   ]
  },
  {
   "cell_type": "code",
   "execution_count": null,
   "metadata": {},
   "outputs": [],
   "source": [
    "con_demo.info()"
   ]
  },
  {
   "cell_type": "markdown",
   "metadata": {},
   "source": [
    "<script type=\"text/javascript\"\n",
    "        src=\"https://cdnjs.cloudflare.com/ajax/libs/mathjax/2.7.0/MathJax.js?config=TeX-AMS_CHTML\"></script>\n",
    "        \n",
    "\\\\[ OddsRatio=\\frac{{dz_{Alzheimer}}/{notdz_{Alzheimer}}}{dz_{Control} / notdz_{Control}} \\\\]\n",
    "\n"
   ]
  },
  {
   "cell_type": "code",
   "execution_count": null,
   "metadata": {},
   "outputs": [],
   "source": [
    "codemap3 = (['circulatory system', 'congenital anomalies', 'dermatologic',\n",
    "             'digestive', 'endocrine/metabolic', 'genitourinary',\n",
    "             'hematopoietic', 'infectious diseases', 'injuries & poisonings',\n",
    "             'mental disorders', 'musculoskeletal', 'neoplasms', 'neurological',\n",
    "             'pregnancy complications', 'respiratory', 'sense organs',\n",
    "             'symptoms'])\n",
    "\n",
    "rand_colors = ('#a7414a', '#282726', '#6a8a82', '#a37c27', '#563838', '#0584f2', '#f28a30', '#f05837',\n",
    "               '#6465a5', '#00743f', '#be9063', '#de8cf0', '#888c46', '#c0334d', '#270101', '#8d2f23',\n",
    "               '#ee6c81', '#65734b', '#14325c', '#704307', '#b5b3be', '#f67280', '#ffd082', '#ffd800',\n",
    "               '#ad62aa', '#21bf73', '#a0855b', '#5edfff', '#08ffc8', '#ca3e47', '#c9753d', '#6c5ce7')"
   ]
  },
  {
   "cell_type": "code",
   "execution_count": null,
   "metadata": {},
   "outputs": [],
   "source": [
    "%run -i plotting_functions.py"
   ]
  },
  {
   "cell_type": "markdown",
   "metadata": {},
   "source": [
    "## Diagnosis Differences in Racialized Populations"
   ]
  },
  {
   "cell_type": "markdown",
   "metadata": {},
   "source": [
    "## Include UCSFDerivedRaceEthnicity_Clean column to ad_diag and con_diag dataframes"
   ]
  },
  {
   "cell_type": "code",
   "execution_count": null,
   "metadata": {},
   "outputs": [],
   "source": [
    "# Add race/ethnicity column to ad_diag df\n",
    "ad_diag = ad_diag.merge(ad_demo[['person_id', 'UCSFDerivedRaceEthnicity_Clean']], \n",
    "                        how='left', \n",
    "                        left_on='person_id', \n",
    "                        right_on='person_id')"
   ]
  },
  {
   "cell_type": "code",
   "execution_count": null,
   "metadata": {},
   "outputs": [],
   "source": [
    "# Add race/ethnicity column to con_diag df\n",
    "con_diag = con_diag.merge(con_demo[['person_id', 'UCSFDerivedRaceEthnicity_Clean']], \n",
    "                          how='left', \n",
    "                          left_on='person_id', \n",
    "                          right_on='person_id')"
   ]
  },
  {
   "cell_type": "code",
   "execution_count": null,
   "metadata": {},
   "outputs": [],
   "source": [
    "ad_diag['UCSFDerivedRaceEthnicity_Clean'].unique()"
   ]
  },
  {
   "cell_type": "markdown",
   "metadata": {},
   "source": [
    "### Only keep MatchIt person_ids for ad_diag and con_diag"
   ]
  },
  {
   "cell_type": "code",
   "execution_count": null,
   "metadata": {},
   "outputs": [],
   "source": [
    "# Get person_ids for MatchIt Alzheimer's and Control patients\n",
    "ad_MatchIt = pd.read_csv('Demographics/RE_MI_ad_demo.csv')\n",
    "con_MatchIt = pd.read_csv('Demographics/RE_MI_con_demo.csv')"
   ]
  },
  {
   "cell_type": "code",
   "execution_count": null,
   "metadata": {},
   "outputs": [],
   "source": [
    "# 422 patients each\n",
    "ad_MatchIt.shape"
   ]
  },
  {
   "cell_type": "code",
   "execution_count": null,
   "metadata": {},
   "outputs": [],
   "source": [
    "# 844 patients each\n",
    "con_MatchIt.shape"
   ]
  },
  {
   "cell_type": "code",
   "execution_count": null,
   "metadata": {},
   "outputs": [],
   "source": [
    "ad_diag = ad_diag[ad_diag['person_id'].isin(ad_MatchIt['person_id'])]\n",
    "con_diag = con_diag[con_diag['person_id'].isin(con_MatchIt['person_id'])]"
   ]
  },
  {
   "cell_type": "markdown",
   "metadata": {},
   "source": [
    "### Stratify diagnosis dataframes by race/ethnicity"
   ]
  },
  {
   "cell_type": "code",
   "execution_count": null,
   "metadata": {},
   "outputs": [],
   "source": [
    "UCSFDerivedRaceEthnicity_Clean = ad_diag['UCSFDerivedRaceEthnicity_Clean'].unique()\n",
    "print('Racialized populations in analysis: ', UCSFDerivedRaceEthnicity_Clean)\n",
    "print('\\n')\n",
    "equalize_num = False # Equalize number between all patients\n",
    "randomstate = 40\n",
    "\n",
    "# Stratify diagnosis dataframes by self-reported race and ethnicity\n",
    "ad_diag_re_dict = dict()\n",
    "con_diag_re_dict = dict()\n",
    "\n",
    "# Count number of patients in each stratified self-reported race and ethnicity\n",
    "num_ad_re_dict = dict()\n",
    "num_con_re_dict = dict()\n",
    "\n",
    "for re in UCSFDerivedRaceEthnicity_Clean:\n",
    "    # Diagnosis dataframes\n",
    "    ad_diag_re_dict[re+'_AD'] = ad_diag[ad_diag['UCSFDerivedRaceEthnicity_Clean'] == re]\n",
    "    con_diag_re_dict[re+'_con'] = con_diag[con_diag['UCSFDerivedRaceEthnicity_Clean'] == re]\n",
    "    \n",
    "    # Number of patients for each self-reported race and ethnicity\n",
    "    num_ad_re_dict[re+'_AD'] = ad_diag_re_dict[re+'_AD'][['person_id',\n",
    "                                                           'UCSFDerivedRaceEthnicity_Clean']].drop_duplicates().shape[0]\n",
    "    num_con_re_dict[re+'_con'] = con_diag_re_dict[re+'_con'][['person_id',\n",
    "                                                              'UCSFDerivedRaceEthnicity_Clean']].drop_duplicates().shape[0]\n",
    "\n",
    "print('Number of AD patients stratified by self-reported race and ethnicity: \\n',\n",
    "      num_ad_re_dict)\n",
    "print('\\n')\n",
    "print('Number of control patients stratified by self-reported race and ethnicity: \\n', \n",
    "      num_con_re_dict)\n",
    "print('\\n')\n",
    "\n",
    "# Get the lower number as our number to sample\n",
    "kNumPatientsSampled = min((num_ad_re_dict.values())) "
   ]
  },
  {
   "cell_type": "markdown",
   "metadata": {},
   "source": [
    "### Count diagnosis"
   ]
  },
  {
   "cell_type": "code",
   "execution_count": null,
   "metadata": {},
   "outputs": [],
   "source": [
    "# Count diagnosis\n",
    "def getDiagnosisCountsStratify(stratvarname, \n",
    "                               stratvars, \n",
    "                               diagdf=None, \n",
    "                               diagdict=None, \n",
    "                               numptsvar=None, \n",
    "                               equalize_num=False, \n",
    "                               random_state=40, \n",
    "                               AD=None):\n",
    "    \n",
    "    \"\"\"\n",
    "    Parameters\n",
    "    __________\n",
    "    stratvarname : string\n",
    "        Name of stratifying variable (e.g., identified race and ethnicity)\n",
    "    stratvars : dictionary\n",
    "        Possible stratifying names (e.g. ['Asian','Black', 'Latine', 'White'])\n",
    "    diagdf : pandas DataFrame (default None)\n",
    "        Contains diagnoses. Must be passed if diagdict is not passed\n",
    "    diagdict : dictionary (default None)\n",
    "        Contains diagnoses. Must be passed if diagdf is not passed\n",
    "    numptsvar : dictionary\n",
    "        Number of patients with stratification\n",
    "    equalize_num : bool (default False)\n",
    "        Equalizes the number across stratified categories if set to True\n",
    "    random_state : int (default 40)\n",
    "        Seeds random numbe of patients subsampled if equalize_num is set to True\n",
    "    AD : bool\n",
    "        Whether stratified dataframes are of patients with AD\n",
    "        If True, assumes these are patients with AD\n",
    "        If False, assumes these are control patients\n",
    "    \n",
    "\n",
    "    Returns\n",
    "    _______\n",
    "    stratdiagcount : dictionary\n",
    "        Dictionary indexed by stratified variable with dataframe of counted diagnosis.\n",
    "    \"\"\"\n",
    "\n",
    "    if AD == True:\n",
    "        for i, var in enumerate(stratvars):\n",
    "            stratvars[i] = var+'_AD'\n",
    "    elif AD == False:\n",
    "        for i, var in enumerate(stratvars):\n",
    "            stratvars[i] = var+'_con'\n",
    "    else:\n",
    "        raise Exception('Cannot tell whether patients are AD or control, please correct.')\n",
    "        \n",
    "    diagdictvar = dict()\n",
    "    if diagdict: \n",
    "        diagdictvar = diagdict;\n",
    "        if numptsvar is None:\n",
    "            raise Exception('variable numptsvar is empty, pass in dictionary with number of patients in each category.')\n",
    "    elif diagdf:\n",
    "        numptsvar = dict()\n",
    "        for var in stratvars:\n",
    "            diagdictvar[var] = diagdf[diagdf[stratvarname] == var]\n",
    "            numptsvar[var] = diagdictvar[var][['person_id' , stratvarname]] \\\n",
    "                             .drop_duplicates().shape[0]\n",
    "    else:\n",
    "        raise Exception('did not pass in full dataframe or dictionary of stratified dataframes.')\n",
    "        \n",
    "    kMinPatientsSampled = min(numptsvar.values())\n",
    "            \n",
    "    stratdiagcount = dict()\n",
    "    for var in stratvars:\n",
    "        stratdiagcount[var] = dict()\n",
    "        if numptsvar[var]>kMinPatientsSampled and equalize_num:\n",
    "            subsampledPatientKeys = diagdictvar[var]['person_id'].drop_duplicates()\\\n",
    "                                    .sample(kMinPatientsSampled, random_state=random_state)\n",
    "            diagdictvar_s = diagdictvar[var][diagdictvar[var]['person_id'].isin(subsampledPatientKeys)]\n",
    "            stratdiagcount[var] = countPtsDiagnosis_Dict(diagdictvar_s, kMinPatientsSampled)\n",
    "        else: \n",
    "            stratdiagcount[var] = countPtsDiagnosis_Dict(diagdictvar[var], numptsvar[var])\n",
    "    return stratdiagcount\n",
    "\n",
    "# Get counts for each diagnosis by race/ethnicity for alzheimers cohort\n",
    "ad_diagcountre = getDiagnosisCountsStratify('UCSFDerivedRaceEthnicity_Clean', \n",
    "                                            stratvars=['Asian', \n",
    "                                                       'Black or African American', \n",
    "                                                       'Latinx', \n",
    "                                                       'White or Caucasian'],\n",
    "                                            diagdict=ad_diag_re_dict, \n",
    "                                            numptsvar=num_ad_re_dict, \n",
    "                                            equalize_num=equalize_num, \n",
    "                                            random_state=randomstate,\n",
    "                                            AD=True)        \n",
    "\n",
    "# Get counts for each diagnosis by race/ethnicity for control cohorts\n",
    "con_diagcountre = getDiagnosisCountsStratify('UCSFDerivedRaceEthnicity_Clean', \n",
    "                                             stratvars=['Asian', \n",
    "                                                       'Black or African American', \n",
    "                                                       'Latinx', \n",
    "                                                       'White or Caucasian'], \n",
    "                                             diagdict=con_diag_re_dict, \n",
    "                                             numptsvar=num_con_re_dict,\n",
    "                                             equalize_num=equalize_num, \n",
    "                                             random_state=randomstate,\n",
    "                                             AD=False)"
   ]
  },
  {
   "cell_type": "markdown",
   "metadata": {},
   "source": [
    "### Make contingency tables"
   ]
  },
  {
   "cell_type": "code",
   "execution_count": null,
   "metadata": {},
   "outputs": [],
   "source": [
    "# create contingency table for various comparisons\n",
    "\n",
    "# Asian, Black, Latine, and White-identified AD patients compared with respectively controls\n",
    "comparisons = ['ADCon_A', 'ADCon_B', 'ADCon_L', 'ADCon_W']\n",
    "alldiagcountre = dict()\n",
    "for comp in comparisons:\n",
    "    alldiagcountre[comp] = dict()\n",
    "jointype = 'outer'\n",
    "num_threshold = 0\n",
    "\n",
    "n = 'phenotype' \n",
    "\n",
    "\n",
    "for n in diagkeys:\n",
    "    for ad, con, comp in zip(ad_diagcountre.keys(), con_diagcountre.keys(), comparisons):\n",
    "        diagtemp = ad_diagcountre[ad][n] \\\n",
    "                   .merge(con_diagcountre[con][n], \n",
    "                   how=jointype, \n",
    "                   on=n, \n",
    "                   suffixes=('_AD_'+comp[-1],'_con_'+comp[-1]))\n",
    "        alldiagcountre[comp][n] = diagtemp.set_index(n)\n",
    "        alldiagcountre[comp][n] = alldiagcountre[comp][n] \\\n",
    "                                  [(alldiagcountre[comp][n]<num_threshold).sum(axis=1) < 1 ]\n",
    "        if jointype == 'outer':\n",
    "            nanreplace = dict(zip(list(alldiagcountre[comp][n].columns),\n",
    "                              [0,num_ad_re_dict[ad],0,num_con_re_dict[con]]))\n",
    "            alldiagcountre[comp][n] = alldiagcountre[comp][n].fillna(value=nanreplace)"
   ]
  },
  {
   "cell_type": "markdown",
   "metadata": {},
   "source": [
    "### Do statistical testing (Fisher's Exact Test and Chi Squared)"
   ]
  },
  {
   "cell_type": "code",
   "execution_count": null,
   "metadata": {},
   "outputs": [],
   "source": [
    "def sigTestDiagCountRE2(alldiagcountre, comp, n, verbose=False): \n",
    "    \"\"\"\n",
    "    Parameters\n",
    "    __________\n",
    "    alldiagcountre : dictionary\n",
    "        Keys denote stratified racialized population \n",
    "        Values correspond to dictionary of AD and control counts for\n",
    "        each phenotype, where key is phenotype and value is pandas DataFrame\n",
    "        containing counts\n",
    "    comp : string\n",
    "        Specifcies which stratified population is being compared\n",
    "    n : string\n",
    "        Corresponds to 'phenotype' in this study\n",
    "    verbose : bool (default False)\n",
    "        When True, prints out detailed output of tests if set to True\n",
    "\n",
    "    Returns\n",
    "    _______\n",
    "    combined : pandas DataFrame\n",
    "        Contains phenotype differential analysis results for a given stratified population\n",
    "    \"\"\"\n",
    "   \n",
    "    # First, for fischer exact test choose rows with less than 5 patients in a category\n",
    "    print(comp, n,': Number Diagnosis: ', alldiagcountre[comp][n].shape[0])\n",
    "    \n",
    "    temp_less5 = alldiagcountre[comp][n][alldiagcountre[comp][n].min(axis=1)<5] # take all with counts less than 5\n",
    "    fisher1 = pd.DataFrame()\n",
    "    if temp_less5.shape[0]>0:\n",
    "        print('\\t Fisher Exact for <5 pts in a category, num diagnosis:', temp_less5.shape[0])\n",
    "        fisher = temp_less5 \\\n",
    "                 .apply(lambda x: stats.fisher_exact(np.array(x).reshape(2,2)), axis=1) \\\n",
    "                 .apply(pd.Series)\n",
    "        fisher.columns = ['OddsRatio', 'pvalue']\n",
    "        if verbose: print('fisher:', fisher.shape)\n",
    "\n",
    "        maxratio = fisher['OddsRatio'][fisher['OddsRatio']<np.inf].max()\n",
    "        minratio = fisher['OddsRatio'][fisher['OddsRatio']>0].min()\n",
    "        fisher = fisher.replace(np.inf, maxratio+1) \n",
    "        fisher['log2_oddsratio'] = fisher['OddsRatio']\\\n",
    "                                   .apply(lambda x: log2(minratio/2) if (x==0) else log2(x))\n",
    "\n",
    "        minpvalue = fisher['pvalue'][fisher['pvalue']>0].min();\n",
    "        fisher['pvalue'] = fisher['pvalue'].replace(0,minpvalue/2)\n",
    "        fisher['-log_pvalue'] = fisher['pvalue'].apply(lambda x: -log10(x))\n",
    "\n",
    "        fisher1 = fisher.merge(temp_less5, how='right', left_index=True, right_index=True)\n",
    "        if verbose: print('fisher1',fisher1.shape)\n",
    "\n",
    "    # now take the rest of the patients\n",
    "    temp_more5 = alldiagcountre[comp][n][alldiagcountre[comp][n].min(axis=1)>=5]\n",
    "    print('\\n \\t Chi square for >=5 pts in a category, num diagnosis:', temp_more5.shape[0])\n",
    "\n",
    "    fisher =  temp_more5 \\\n",
    "              .apply(lambda x: stats.fisher_exact(np.array(x).reshape(2,2)), axis = 1) \\\n",
    "              .apply(pd.Series)\n",
    "    fisher.columns = ['OddsRatio', 'fpvalue']\n",
    "    \n",
    "    maxratio = fisher['OddsRatio'][fisher['OddsRatio']<np.inf].max();\n",
    "    minratio = fisher['OddsRatio'][fisher['OddsRatio']>0].min();\n",
    "    fisher = fisher.replace(np.inf, maxratio+1) \n",
    "    fisher['log2_oddsratio'] = fisher['OddsRatio']\\\n",
    "                               .apply(lambda x: log2(minratio) if (x==0) else log2(x))\n",
    "    minpvalue = fisher['fpvalue'][fisher['fpvalue']>0].min();\n",
    "    fisher['fpvalue'] = fisher['fpvalue'].replace(0,minpvalue/2)\n",
    "    fisher['-log_fpvalue'] = fisher['fpvalue'].apply(lambda x: -log10(x))\n",
    "    if verbose: print('fisher',fisher.shape)\n",
    "\n",
    "    chisquare = temp_more5.apply(lambda x: \\\n",
    "                           chi2_contingency(np.array(x).reshape(2,2)), axis=1) \\\n",
    "                           .apply(pd.Series)\n",
    "    chisquare.columns = ['chistat','pvalue','dof','expected']\n",
    "    chisquare = chisquare.merge(temp_more5, how='right',left_index=True, right_index=True)\n",
    "    minpvalue = chisquare['pvalue'][chisquare['pvalue']>0].min();\n",
    "    chisquare['pvalue'] = chisquare['pvalue'].replace(0,minpvalue/2)\n",
    "    chisquare['-log_pvalue'] = chisquare['pvalue'].apply(lambda x: -log10(x))\n",
    "    if verbose: print('chisquare:', chisquare.shape)\n",
    "\n",
    "    combined = chisquare.merge(fisher, left_index=True, right_index=True, how='left')\n",
    "    combined = combined.append(fisher1)\n",
    "    if verbose: \n",
    "        print('combined 1:', combined.shape)\n",
    "        \n",
    "    # Odds ratio 95% confidence interval\n",
    "    temp = combined.filter(regex=('Count_*'))\n",
    "    print('temp columns (should only have counts): ', temp.columns)\n",
    "    or_ci = temp \\\n",
    "            .apply(lambda x: statsmodels.stats.contingency_tables.Table2x2(np.array(x).reshape(2,2)).oddsratio_confint(), \n",
    "                   axis=1).apply(pd.Series)\n",
    "    # OddsRatio_CI_lb - confidence interval lower bound; \n",
    "    # OddsRatio_CI_ub - confidence interval upper bound\n",
    "    or_ci.columns = ['OddsRatio_CI_lb', 'OddsRatio_CI_ub']\n",
    "    combined = combined.merge(or_ci, how='left', left_index=True, right_index=True)\n",
    "    \n",
    "    temp = ad_diag[[n,'icd10_chapter']].append(con_diag[[n, 'icd10_chapter']]).drop_duplicates() # get mapping between diagnosis and category\n",
    "    temp = temp[temp['icd10_chapter'] != 'NaN'].groupby(n)['icd10_chapter'].apply(list)\n",
    "    combined = combined.merge(temp, how='left', left_index=True, right_index=True, suffixes=(False, False))\n",
    "    if verbose: print('combined 2:', combined.shape, combined.columns)\n",
    "\n",
    "    print('\\t Final diagnosis num: ', combined.shape[0])\n",
    "    \n",
    "    print('\\n \\n')\n",
    "    \n",
    "    return combined\n",
    "\n",
    "sigtestcountre = dict()      \n",
    "for comp in comparisons:\n",
    "    sigtestcountre[comp]=dict()\n",
    "    for n in diagkeys:\n",
    "        sigtestcountre[comp][n] = sigTestDiagCountRE2(alldiagcountre, comp, n)"
   ]
  },
  {
   "cell_type": "code",
   "execution_count": null,
   "metadata": {},
   "outputs": [],
   "source": [
    "suffixes = ['_A', '_B', '_L', '_W']"
   ]
  },
  {
   "cell_type": "code",
   "execution_count": null,
   "metadata": {},
   "outputs": [],
   "source": [
    "re_dfs = [sigtestcountre['ADCon_A'][n].sort_index(),\n",
    "          sigtestcountre['ADCon_B'][n].sort_index(),\n",
    "          sigtestcountre['ADCon_L'][n].sort_index(),\n",
    "          sigtestcountre['ADCon_W'][n].sort_index()]\n",
    "\n",
    "# Add self-reported race and ethnicity specific suffixes to dataframes\n",
    "for i, suffix in enumerate(suffixes):\n",
    "    mod_columns = dict()\n",
    "    for column in re_dfs[i].columns:\n",
    "        if column[-2:] != suffix:\n",
    "            mod_columns[column] = column+suffix\n",
    "    re_dfs[i] = re_dfs[i].rename(columns=mod_columns).copy()"
   ]
  },
  {
   "cell_type": "markdown",
   "metadata": {},
   "source": [
    "### Combine race/ethnicity stratified results and encode signficance"
   ]
  },
  {
   "cell_type": "code",
   "execution_count": null,
   "metadata": {},
   "outputs": [],
   "source": [
    "# columns without suffixes:\n",
    "cols_general = list()\n",
    "\n",
    "for column in re_dfs[0].columns:\n",
    "    cols_general.append(column[:-2])"
   ]
  },
  {
   "cell_type": "code",
   "execution_count": null,
   "metadata": {},
   "outputs": [],
   "source": [
    "for i, suffix in enumerate(suffixes):\n",
    "    # keep the following columns for each dataframe:\n",
    "    cols_keep = ['pvalue', \n",
    "                 '-log_pvalue',\n",
    "                 'Count_AD', \n",
    "                 'Count_con',  \n",
    "                 'OddsRatio', \n",
    "                 'OddsRatio_CI_lb', \n",
    "                 'OddsRatio_CI_ub',\n",
    "                 'log2_oddsratio']\n",
    "    for j, column in enumerate(cols_keep):\n",
    "        cols_keep[j] = column+suffix\n",
    "    # _W dataframe will also add the icd10_chapter column to be kept and renamed from\n",
    "    # icd10_chapter_W to icd10_chapter\n",
    "    if suffix == '_W':\n",
    "        re_dfs[i] = re_dfs[i][cols_keep + ['icd10_chapter_W']]\n",
    "        re_dfs[i] = re_dfs[i].rename(columns={'icd10_chapter_W' : 'icd10_chapter'})\n",
    "    else:\n",
    "        re_dfs[i] = re_dfs[i][cols_keep]"
   ]
  },
  {
   "cell_type": "code",
   "execution_count": null,
   "metadata": {},
   "outputs": [],
   "source": [
    "chitestRE = dict()\n",
    "chitestRE[n] = pd.concat(re_dfs, axis=1)"
   ]
  },
  {
   "cell_type": "code",
   "execution_count": null,
   "metadata": {},
   "outputs": [],
   "source": [
    "sig_cols = ['Sig_A', 'Sig_B', 'Sig_L', 'Sig_W']\n",
    "for k in range(5):\n",
    "    sig_combo_temp = list(combinations(sig_cols, k))\n",
    "    print(sig_combo_temp)\n",
    "    print('\\n')"
   ]
  },
  {
   "cell_type": "code",
   "execution_count": null,
   "metadata": {},
   "outputs": [],
   "source": [
    "def stratified_significance(df, suffixes):\n",
    "    \"\"\"\n",
    "    Parameters\n",
    "    __________\n",
    "    df : pandas DataFrame\n",
    "        Contains phenotype differential analysis results\n",
    "    suffixes : list\n",
    "        Suffixes for each racialized population (_A, _B, _L, _W)\n",
    "\n",
    "    Returns\n",
    "    _______\n",
    "    df : pandas DataFrame\n",
    "        Contains 12 new columns with significance for each phenotype,\n",
    "        stratified by identified race and ethnicity\n",
    "        'Sig_A', 'Sig_B', 'Sig_L', 'Sig_W' : bool\n",
    "            Whether phenotype is signficantly associated with either\n",
    "            1. patients with AD OR\n",
    "            2. control patients\n",
    "        'Oddsratio_A_AD', 'Oddsratio_B_AD', 'Oddsratio_L_AD', 'Oddsratio_W_AD' : bool\n",
    "            Whether Odds Ratio is > 1\n",
    "            If True, then phenotype is associated with patients with AD\n",
    "        'Sig_A_AD', 'Sig_B_AD', 'Sig_L_AD', 'Sig_W_AD' : bool\n",
    "            If true, then phenotype is significantly associatd with patients with AD\n",
    "    \"\"\"\n",
    "    \n",
    "    # Encode stratified significance\n",
    "    # Bonferroni correction\n",
    "    for n in diagkeys:\n",
    "        bc = .05/chitestRE[n].shape[0] #Bonferroni correction\n",
    "        print(n, bc)\n",
    "    \n",
    "    # Encode stratified significance\n",
    "    for suffix in suffixes:\n",
    "        df['Sig'+suffix] = (chitestRE[n]['pvalue'+suffix] < bc).to_numpy()\n",
    "        df['OddsRatio'+suffix+'_AD'] = (chitestRE[n]['OddsRatio'+suffix] > 1).to_numpy()\n",
    "        df['Sig'+suffix+'_AD'] = np.logical_and(df['Sig'+suffix], df['OddsRatio'+suffix+'_AD'])     \n",
    "\n",
    "    return df"
   ]
  },
  {
   "cell_type": "code",
   "execution_count": null,
   "metadata": {},
   "outputs": [],
   "source": [
    "chitestRE[n] = stratified_significance(chitestRE[n], suffixes)"
   ]
  },
  {
   "cell_type": "code",
   "execution_count": null,
   "metadata": {},
   "outputs": [],
   "source": [
    "def overall_significance(df):\n",
    "    \"\"\"\n",
    "    Parameters\n",
    "    __________\n",
    "    df : pandas DataFrame\n",
    "        Contains the columns 'Sig_A_AD', 'Sig_B_AD', 'Sig_L_AD', 'Sig_W_AD'\n",
    "\n",
    "    Returns\n",
    "    _______\n",
    "    significance : tuple\n",
    "        Contains the racialized populations that have a significant \n",
    "        AD-associated comorbidity for a given phenotype. \n",
    "    \"\"\"\n",
    "    # input: df containing 'Sig_A_AD', 'Sig_B_AD', 'Sig_L_AD' and 'Sig_W_AD'\n",
    "    significance = list()\n",
    "    suffixes = ['_A', '_B', '_L', '_W']\n",
    "    for suffix in suffixes:\n",
    "        if df['Sig'+suffix+'_AD'] == True:\n",
    "            significance.append('Sig'+suffix+'_AD')\n",
    "    significance = tuple(significance)\n",
    "    return significance"
   ]
  },
  {
   "cell_type": "code",
   "execution_count": null,
   "metadata": {},
   "outputs": [],
   "source": [
    "chitestRE[n]['Significance'] = chitestRE[n].apply(overall_significance, axis=1)"
   ]
  },
  {
   "cell_type": "code",
   "execution_count": null,
   "metadata": {},
   "outputs": [],
   "source": [
    "chitestRE[n].columns"
   ]
  },
  {
   "cell_type": "code",
   "execution_count": null,
   "metadata": {},
   "outputs": [],
   "source": [
    "# Save\n",
    "base = os.getcwd()\n",
    "chitestRE[n].to_csv(base + \"\\\\Tables\\\\PheDiff_RE.csv\")\n",
    "chitestRE[n].to_csv(base + \"\\\\Tables\\\\SuppData_1.csv\")"
   ]
  },
  {
   "cell_type": "markdown",
   "metadata": {},
   "source": [
    "### Upset Plots"
   ]
  },
  {
   "cell_type": "code",
   "execution_count": null,
   "metadata": {},
   "outputs": [],
   "source": [
    "chitest_upset = chitestRE[n].copy()"
   ]
  },
  {
   "cell_type": "code",
   "execution_count": null,
   "metadata": {},
   "outputs": [],
   "source": [
    "def abv(series):\n",
    "    \"\"\"\n",
    "    Parameters\n",
    "    __________\n",
    "    series : pandas Series\n",
    "        The Significance column of chitestRE[n]\n",
    "        \n",
    "    Returns\n",
    "    _______\n",
    "    sig_upset : list\n",
    "        For each phenotype, specifies which racialized populations with AD\n",
    "        have the phenotype significantly associated with them relative to matched\n",
    "        controls. Abbreviated with A, B, L, W for upset plot\n",
    "    \"\"\"\n",
    "    # input: pandas series; particularly the Significance column, which contains the tuple dtype\n",
    "    \n",
    "    sig_upset = list()\n",
    "    \n",
    "    for re in series:\n",
    "        if len(re) > 0:\n",
    "            sig_upset.append(re[-4])\n",
    "    \n",
    "    return sig_upset"
   ]
  },
  {
   "cell_type": "code",
   "execution_count": null,
   "metadata": {},
   "outputs": [],
   "source": [
    "chitest_upset['Sig_Upset'] = chitest_upset['Significance'].apply(abv)"
   ]
  },
  {
   "cell_type": "code",
   "execution_count": null,
   "metadata": {
    "scrolled": true
   },
   "outputs": [],
   "source": [
    "chitest_upset['Sig_Upset'].value_counts().sort_index()"
   ]
  },
  {
   "cell_type": "code",
   "execution_count": null,
   "metadata": {},
   "outputs": [],
   "source": [
    "sig_overlaps = chitest_upset['Sig_Upset'].value_counts().sort_index()\n",
    "sig_values = list(sig_overlaps)\n",
    "# Add 0 to sig_values to indicate that no phenotypes found in common\n",
    "# for Sig_A and Sig_W only\n",
    "sig_values.append(0)\n",
    "sig_values"
   ]
  },
  {
   "cell_type": "code",
   "execution_count": null,
   "metadata": {},
   "outputs": [],
   "source": [
    "# Add ('Sig_A', 'Sig_W') to sig_overlaps (0 overlap found)\n",
    "sig_overlaps_list = list(sig_overlaps.index)"
   ]
  },
  {
   "cell_type": "code",
   "execution_count": null,
   "metadata": {},
   "outputs": [],
   "source": [
    "sig_overlaps_list.append(['A', 'W'],)\n",
    "sig_overlaps_list"
   ]
  },
  {
   "cell_type": "code",
   "execution_count": null,
   "metadata": {
    "scrolled": true
   },
   "outputs": [],
   "source": [
    "save = True\n",
    "upset = upsetplot.from_memberships(sig_overlaps_list[1:],\n",
    "                                   data=sig_values[1:])\n",
    "\n",
    "upsetplot.plot(upset, show_counts=True)\n",
    "\n",
    "# https://stackoverflow.com/questions/45148704/how-to-hide-axes-and-gridlines-in-matplotlib-python\n",
    "plt.grid(False)\n",
    "\n",
    "plt.ylabel('Significant Comorbidity \\n Intersections', fontweight='bold')\n",
    "plt.title('Number of Enriched Comorbidities \\n Across Racialized Populations With AD \\n', \n",
    "          fontweight='bold')\n",
    "\n",
    "if save:\n",
    "    plt.savefig('Figures/Fig_3.pdf', bbox_inches='tight')\n",
    "plt.show()"
   ]
  },
  {
   "cell_type": "code",
   "execution_count": null,
   "metadata": {},
   "outputs": [],
   "source": []
  }
 ],
 "metadata": {
  "kernelspec": {
   "display_name": "Python 3",
   "language": "python",
   "name": "python3"
  },
  "language_info": {
   "codemirror_mode": {
    "name": "ipython",
    "version": 3
   },
   "file_extension": ".py",
   "mimetype": "text/x-python",
   "name": "python",
   "nbconvert_exporter": "python",
   "pygments_lexer": "ipython3",
   "version": "3.8.3"
  }
 },
 "nbformat": 4,
 "nbformat_minor": 4
}
