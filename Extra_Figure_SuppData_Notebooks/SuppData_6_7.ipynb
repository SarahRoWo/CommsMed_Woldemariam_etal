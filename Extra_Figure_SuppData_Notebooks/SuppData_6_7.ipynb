{
 "cells": [
  {
   "cell_type": "markdown",
   "metadata": {},
   "source": [
    "## Supplementary Data File 6 and 7\n",
    "\n",
    "### Only start here if edge tables haven't been made"
   ]
  },
  {
   "cell_type": "code",
   "execution_count": null,
   "metadata": {},
   "outputs": [],
   "source": [
    "import py4cytoscape as p4c\n",
    "import os\n",
    "import pandas as pd\n",
    "\n",
    "# display dataframes\n",
    "from IPython.display import display"
   ]
  },
  {
   "cell_type": "code",
   "execution_count": null,
   "metadata": {},
   "outputs": [],
   "source": [
    "os.chdir(\"..\")"
   ]
  },
  {
   "cell_type": "code",
   "execution_count": null,
   "metadata": {},
   "outputs": [],
   "source": [
    "p4c.cytoscape_ping()"
   ]
  },
  {
   "cell_type": "code",
   "execution_count": null,
   "metadata": {},
   "outputs": [],
   "source": [
    "# Make sure UCSF networks are showing up\n",
    "for network in p4c.get_network_list():\n",
    "    print(network)"
   ]
  },
  {
   "cell_type": "markdown",
   "metadata": {},
   "source": [
    "Get edge tables for UCSF networks\n",
    "- Used Ntwrk_Viz_UCSF_v2b file"
   ]
  },
  {
   "cell_type": "code",
   "execution_count": null,
   "metadata": {},
   "outputs": [],
   "source": [
    "# Retrieve edge tables\n",
    "network_metric_values = dict()\n",
    "\n",
    "for network in p4c.get_network_list():\n",
    "    network_metric_values[network] = p4c.get_table_columns(table='edge',  \n",
    "                                                           namespace='default', \n",
    "                                                           network=network, \n",
    "                                                           base_url='http://127.0.0.1:1234/v1')"
   ]
  },
  {
   "cell_type": "code",
   "execution_count": null,
   "metadata": {},
   "outputs": [],
   "source": [
    "network_metric_values.keys()"
   ]
  },
  {
   "cell_type": "code",
   "execution_count": null,
   "metadata": {},
   "outputs": [],
   "source": [
    "# Save edge tables\n",
    "if os.path.isdir('Network_Analysis/ADCon_phe/edge_tables'):\n",
    "    for network in network_metric_values:\n",
    "        pd.DataFrame(network_metric_values[network]).to_csv('Network_Analysis/ADCon_phe/edge_tables/'+network+'_edge_table.csv')\n",
    "else:\n",
    "    os.mkdir('Network_Analysis/ADCon_phe/edge_tables')\n",
    "    for network in network_metric_values:\n",
    "        pd.DataFrame(network_metric_values[network]).to_csv('Network_Analysis/ADCon_phe/edge_tables/'+network+'_edge_table.csv')"
   ]
  },
  {
   "cell_type": "markdown",
   "metadata": {},
   "source": [
    "Get edge tables for UCDDP networks\n",
    "- Used UCDDP/Ntwrk_viz_v3\n",
    "- Need to close cytoscape and reopen to this file (could also probably just open new .cys file)"
   ]
  },
  {
   "cell_type": "code",
   "execution_count": null,
   "metadata": {},
   "outputs": [],
   "source": [
    "# Make sure UCDDP networks are showing up\n",
    "for network in p4c.get_network_list():\n",
    "    print(network)"
   ]
  },
  {
   "cell_type": "code",
   "execution_count": null,
   "metadata": {},
   "outputs": [],
   "source": [
    "# Retrieve edge tables\n",
    "network_metric_values = dict()\n",
    "\n",
    "for network in p4c.get_network_list():\n",
    "    network_metric_values[network] = p4c.get_table_columns(table='edge',  \n",
    "                                                           namespace='default', \n",
    "                                                           network=network, \n",
    "                                                           base_url='http://127.0.0.1:1234/v1')"
   ]
  },
  {
   "cell_type": "code",
   "execution_count": null,
   "metadata": {},
   "outputs": [],
   "source": [
    "# Save edge tables\n",
    "if os.path.isdir('Network_Analysis/UCDDP/ADCon_phe/edge_tables'):\n",
    "    for network in network_metric_values:\n",
    "        pd.DataFrame(network_metric_values[network]).to_csv('Network_Analysis/UCDDP/ADCon_phe/edge_tables/'+network+'_5_edge_table.csv')\n",
    "else:\n",
    "    os.mkdir('Network_Analysis/UCDDP/ADCon_phe/edge_tables')\n",
    "    for network in network_metric_values:\n",
    "        pd.DataFrame(network_metric_values[network]).to_csv('Network_Analysis/UCDDP/ADCon_phe/edge_tables/'+network+'_5_edge_table.csv')"
   ]
  },
  {
   "cell_type": "markdown",
   "metadata": {},
   "source": [
    "## Start here if already made edge tables\n",
    "\n",
    "Find top interactions in common for patients with AD between UCSF and UC-wide validation cohort for each identified race and ethnicity"
   ]
  },
  {
   "cell_type": "code",
   "execution_count": null,
   "metadata": {},
   "outputs": [],
   "source": [
    "import py4cytoscape as p4c\n",
    "import os\n",
    "import pandas as pd\n",
    "\n",
    "# display dataframes\n",
    "from IPython.display import display"
   ]
  },
  {
   "cell_type": "markdown",
   "metadata": {},
   "source": [
    "**Only change directory if above hasn't been run**"
   ]
  },
  {
   "cell_type": "code",
   "execution_count": null,
   "metadata": {},
   "outputs": [],
   "source": [
    "# os.chdir(\"..\")"
   ]
  },
  {
   "cell_type": "code",
   "execution_count": null,
   "metadata": {},
   "outputs": [],
   "source": [
    "race_ethnicities = ['Asian', 'Black', 'Latine', 'White']\n",
    "pct_re_dict = {'Asian' : 'pA', 'Black' : 'pB', 'Latine' : 'pL', 'White' : 'pW'}"
   ]
  },
  {
   "cell_type": "code",
   "execution_count": null,
   "metadata": {},
   "outputs": [],
   "source": [
    "top_ADinteract_dict = dict()\n",
    "\n",
    "for re in race_ethnicities:\n",
    "    UCSF_temp = pd.read_csv('Network_Analysis/ADCon_phe/edge_tables/'+re+'_AD_5_edge_table.csv')\n",
    "    print('UCSF')\n",
    "    display(UCSF_temp.sort_values(by=pct_re_dict[re], ascending=False).head(20))\n",
    "    UCDDP_temp = pd.read_csv('Network_Analysis/UCDDP/ADCon_phe/edge_tables/'+re+'_AD_UCDDP_5_edge_table.csv')\n",
    "    print('UCDDP')\n",
    "    display(UCDDP_temp.sort_values(by=pct_re_dict[re], ascending=False).head(20))\n",
    "    top_ADinteract_dict[re] = set()\n",
    "    i = 10\n",
    "    while len(top_ADinteract_dict[re]) < 10:\n",
    "        # UCSF pairs\n",
    "        UCSF_temp2 = set(UCSF_temp.sort_values(re, ascending=False).head(i)['name'])\n",
    "        \n",
    "        # Make sets of pairs that are order agnostic \n",
    "        UCSFsort_list = list()\n",
    "        for pair in UCSF_temp2:\n",
    "            UCSFsort = pair.split(\" (interacts with) \")\n",
    "            UCSFsort = sorted(UCSFsort)\n",
    "            UCSFsort_list.append(UCSFsort)\n",
    "            \n",
    "        UCSFsort_set = set(frozenset(pair) for pair in UCSFsort_list)\n",
    "            \n",
    "        # UCDDP pairs \n",
    "        UCDDP_temp2 = set(UCDDP_temp.sort_values(re, ascending=False).head(i)['name'])\n",
    "        \n",
    "        # Make sets of pairs that are order agnostic \n",
    "        UCDDPsort_list = list()\n",
    "        for pair in UCDDP_temp2:\n",
    "            UCDDPsort = pair.split(\" (interacts with) \")\n",
    "            UCDDPsort = sorted(UCDDPsort)\n",
    "            UCDDPsort_list.append(UCDDPsort)\n",
    "            \n",
    "        UCDDPsort_set = set(frozenset(pair) for pair in UCDDPsort_list)\n",
    "        \n",
    "        top_ADinteract_dict[re] = UCSFsort_set & UCDDPsort_set\n",
    "        i +=1\n",
    "    \n",
    "    print(i)\n",
    "    print('Top interactions for {}-identified patients: '.format(re))\n",
    "    for pair in top_ADinteract_dict[re]:\n",
    "        print(pair)\n",
    "    print('\\n')"
   ]
  },
  {
   "cell_type": "code",
   "execution_count": null,
   "metadata": {},
   "outputs": [],
   "source": [
    "# Overlapping interactions\n",
    "overlap = top_ADinteract_dict['Asian'] & top_ADinteract_dict['Black'] & top_ADinteract_dict['Latine'] & top_ADinteract_dict['White']"
   ]
  },
  {
   "cell_type": "code",
   "execution_count": null,
   "metadata": {},
   "outputs": [],
   "source": [
    "print(len(overlap))\n",
    "overlap"
   ]
  },
  {
   "cell_type": "code",
   "execution_count": null,
   "metadata": {},
   "outputs": [],
   "source": [
    "sorted(list(frozenset({\"Alzheimer's disease\", 'Essential hypertension'})))"
   ]
  },
  {
   "cell_type": "code",
   "execution_count": null,
   "metadata": {},
   "outputs": [],
   "source": [
    "# Find top interactions found only in one identified race and ethnicity (if applicable)\n",
    "for re1 in race_ethnicities:\n",
    "    temp_overlap_dict = dict()\n",
    "    j = 1\n",
    "    for _, re2 in enumerate(race_ethnicities):\n",
    "        if re1 != re2:\n",
    "            temp_overlap_dict[j] = top_ADinteract_dict[re1] - top_ADinteract_dict[re2]\n",
    "            j += 1\n",
    "    # for the three comparisons, print which interactions specific to identified race and ethnicity\n",
    "    temp_overlap = temp_overlap_dict[1] & temp_overlap_dict[2] & temp_overlap_dict[3] \n",
    "    print('interactions specific to patients who identify as {}:'.format(re1))\n",
    "    for pair in temp_overlap:\n",
    "        print(pair)\n",
    "        \n",
    "    print('\\n')"
   ]
  },
  {
   "cell_type": "markdown",
   "metadata": {},
   "source": [
    "Find top interactions in common for control patients between UCSF and UC-wide validation cohort for each identified race and ethnicity"
   ]
  },
  {
   "cell_type": "code",
   "execution_count": null,
   "metadata": {},
   "outputs": [],
   "source": [
    "top_coninteract_dict = dict()\n",
    "\n",
    "for re in race_ethnicities:\n",
    "    UCSF_temp = pd.read_csv('Network_Analysis/ADCon_phe/edge_tables/'+re+'_con_5_edge_table.csv')\n",
    "    UCDDP_temp = pd.read_csv('Network_Analysis/UCDDP/ADCon_phe/edge_tables/'+re+'_con_UCDDP_5_edge_table.csv')\n",
    "    top_coninteract_dict[re] = set()\n",
    "    if re != 'White':   \n",
    "        i = 10\n",
    "        while len(top_coninteract_dict[re]) < 10:\n",
    "            # UCSF pairs\n",
    "            UCSF_temp2 = set(UCSF_temp.sort_values(re, ascending=False).head(i)['name'])\n",
    "        \n",
    "            # Make sets of pairs that are order agnostic \n",
    "            UCSFsort_list = list()\n",
    "            for pair in UCSF_temp2:\n",
    "                UCSFsort = pair.split(\" (interacts with) \")\n",
    "                UCSFsort = sorted(UCSFsort)\n",
    "                UCSFsort_list.append(UCSFsort)\n",
    "            \n",
    "            UCSFsort_set = set(frozenset(pair) for pair in UCSFsort_list)\n",
    "            \n",
    "            # UCDDP pairs \n",
    "            UCDDP_temp2 = set(UCDDP_temp.sort_values(re, ascending=False).head(i)['name'])\n",
    "        \n",
    "            # Make sets of pairs that are order agnostic \n",
    "            UCDDPsort_list = list()\n",
    "            for pair in UCDDP_temp2:\n",
    "                UCDDPsort = pair.split(\" (interacts with) \")\n",
    "                UCDDPsort = sorted(UCDDPsort)\n",
    "                UCDDPsort_list.append(UCDDPsort)\n",
    "            \n",
    "            UCDDPsort_set = set(frozenset(pair) for pair in UCDDPsort_list)\n",
    "        \n",
    "            top_coninteract_dict[re] = UCSFsort_set & UCDDPsort_set\n",
    "            i +=1\n",
    "    \n",
    "        print(i)\n",
    "        print('Top interactions for {}-identified patients: '.format(re))\n",
    "        for pair in top_coninteract_dict[re]:\n",
    "            print(pair)\n",
    "        print('\\n')\n",
    "    # Need separate overlapping interactions because only 8 phenotypes found for White control patients that\n",
    "    # are shared by at least 5% of patients\n",
    "    else:\n",
    "        i = 8\n",
    "        # UCSF pairs\n",
    "        UCSF_temp2 = set(UCSF_temp.sort_values(re, ascending=False).head(i)['name'])\n",
    "        \n",
    "        # Make sets of pairs that are order agnostic \n",
    "        UCSFsort_list = list()\n",
    "        for pair in UCSF_temp2:\n",
    "            UCSFsort = pair.split(\" (interacts with) \")\n",
    "            UCSFsort = sorted(UCSFsort)\n",
    "            UCSFsort_list.append(UCSFsort)\n",
    "            \n",
    "        UCSFsort_set = set(frozenset(pair) for pair in UCSFsort_list)\n",
    "            \n",
    "        # UCDDP pairs \n",
    "        UCDDP_temp2 = set(UCDDP_temp.sort_values(re, ascending=False).head(i)['name'])\n",
    "        \n",
    "        # Make sets of pairs that are order agnostic \n",
    "        UCDDPsort_list = list()\n",
    "        for pair in UCDDP_temp2:\n",
    "            UCDDPsort = pair.split(\" (interacts with) \")\n",
    "            UCDDPsort = sorted(UCDDPsort)\n",
    "            UCDDPsort_list.append(UCDDPsort)\n",
    "            \n",
    "        UCDDPsort_set = set(frozenset(pair) for pair in UCDDPsort_list)\n",
    "        \n",
    "        top_coninteract_dict[re] = UCSFsort_set & UCDDPsort_set\n",
    "        i +=1\n",
    "    \n",
    "        print(i)\n",
    "        print('Top interactions for {}-identified patients: '.format(re))\n",
    "        for pair in top_coninteract_dict[re]:\n",
    "            print(pair)\n",
    "        print('\\n')"
   ]
  },
  {
   "cell_type": "code",
   "execution_count": null,
   "metadata": {},
   "outputs": [],
   "source": [
    "# Overlapping interactions\n",
    "overlap = top_coninteract_dict['Asian'] & top_coninteract_dict['Black'] & top_coninteract_dict['Latine'] & top_coninteract_dict['White']"
   ]
  },
  {
   "cell_type": "code",
   "execution_count": null,
   "metadata": {},
   "outputs": [],
   "source": [
    "print(len(overlap))\n",
    "overlap"
   ]
  },
  {
   "cell_type": "code",
   "execution_count": null,
   "metadata": {},
   "outputs": [],
   "source": [
    "# Find top interactions found only in one identified race and ethnicity (if applicable)\n",
    "for re1 in race_ethnicities:\n",
    "    temp_overlap_dict = dict()\n",
    "    j = 1\n",
    "    for _, re2 in enumerate(race_ethnicities):\n",
    "        if re1 != re2:\n",
    "            temp_overlap_dict[j] = top_coninteract_dict[re1] - top_coninteract_dict[re2]\n",
    "            j += 1\n",
    "    # for the three comparisons, print which interactions specific to identified race and ethnicity\n",
    "    temp_overlap = temp_overlap_dict[1] & temp_overlap_dict[2] & temp_overlap_dict[3] \n",
    "    print(len(temp_overlap))\n",
    "    print('interactions specific to patients who identify as {}: {}'.format(re1, temp_overlap))\n",
    "    print('\\n')"
   ]
  },
  {
   "cell_type": "markdown",
   "metadata": {},
   "source": [
    "### Save top pairs for each identified race and ethnicity into excel sheets, one for AD and another for control"
   ]
  },
  {
   "cell_type": "code",
   "execution_count": null,
   "metadata": {},
   "outputs": [],
   "source": [
    "def make_tables(top_pairs, tables, pct=pct_re_dict, res=race_ethnicities):\n",
    "    \n",
    "    \"\"\"\n",
    "    Parameters\n",
    "    __________\n",
    "    top_pairs : dict\n",
    "        Contains top phenotype pairs; keys are a given identified race and ethnicity (string); values are top\n",
    "        phenotye pairs for that identified race and ethnicity (set of comorbidity pairs, which are in a frozenset)\n",
    "    tables : dict\n",
    "        Empty dictionary that will contain top phenotype pairs for each racialized population that are shared\n",
    "        between UCSF and UC-wide\n",
    "    pct : dict\n",
    "        Keys are identified race and ethnicitiesn (string); values are corresponding percentage columns for the \n",
    "        percentage of patients who have that comorbidity pair for each race and ethnicity (string)\n",
    "    res : list\n",
    "        List of identified race and ethnicities (string) in the study\n",
    "        \n",
    "    Returns\n",
    "    _______\n",
    "    Nothing; populates tables variable with pandas DataFrames containing top shared phenotype pairs\n",
    "    between UCSF and UC-wide for each racialized population\n",
    "    \n",
    "    \"\"\"\n",
    "    \n",
    "    for re in res:\n",
    "        print(re)\n",
    "        \n",
    "        # Get relevant files\n",
    "        UCSF_temp = pd.read_csv('Network_Analysis/ADCon_phe/edge_tables/'+re+'_AD_5_edge_table.csv')\n",
    "        UCDDP_temp = pd.read_csv('Network_Analysis/UCDDP/ADCon_phe/edge_tables/'+re+'_AD_UCDDP_5_edge_table.csv')\n",
    "        \n",
    "        # Get pairs in alphabetical order:\n",
    "        ordered = list()\n",
    "        for one_pair in top_pairs[re]:\n",
    "            alphabetical = sorted(list(one_pair))\n",
    "            \n",
    "            # Get UCSF percentage\n",
    "            # https://stackoverflow.com/questions/23145928/python-and-pandas-how-to-access-a-column-using-iterrows\n",
    "            for index, row in UCSF_temp.iterrows():\n",
    "                if (row['source'] == alphabetical[0]) and (row['target'] == alphabetical[1]):\n",
    "                    UCSF_pct = row[pct_re_dict[re]]\n",
    "                elif (row['source'] == alphabetical[1]) and (row['target'] == alphabetical[0]):\n",
    "                    UCSF_pct = row[pct_re_dict[re]]\n",
    "                else: \n",
    "                    pass\n",
    "            alphabetical.append(UCSF_pct)\n",
    "            \n",
    "            # Get UCDDP percentage\n",
    "            for index, row in UCDDP_temp.iterrows():\n",
    "                if (row['source'] == alphabetical[0]) and (row['target'] == alphabetical[1]):\n",
    "                    UCDDP_pct = row[pct_re_dict[re]]\n",
    "                elif (row['source'] == alphabetical[1]) and (row['target'] == alphabetical[0]):\n",
    "                    UCDDP_pct = row[pct_re_dict[re]]\n",
    "                else: \n",
    "                    pass\n",
    "            alphabetical.append(UCDDP_pct)\n",
    "            \n",
    "            ordered.append(alphabetical)\n",
    "\n",
    "        temp = pd.DataFrame(ordered, \n",
    "                            columns=['phenotype_1', \n",
    "                                     'phenotype_2', \n",
    "                                     pct_re_dict[re]+'_UCSF', \n",
    "                                     pct_re_dict[re]+'_UCDDP'])\n",
    "        temp = temp.sort_values(by=pct_re_dict[re]+'_UCSF', ascending=False).reset_index(drop=True)\n",
    "        temp['phenotype_pair'] = temp['phenotype_1'] + ' - ' + temp['phenotype_2']\n",
    "        temp = temp[['phenotype_pair', pct_re_dict[re]+'_UCSF', pct_re_dict[re]+'_UCDDP']]\n",
    "      \n",
    "        tables[re+'-identified patients'] = temp\n",
    "        display(temp)      "
   ]
  },
  {
   "cell_type": "code",
   "execution_count": null,
   "metadata": {},
   "outputs": [],
   "source": [
    "# Make Alzheimer's dataframes of top phenotype pairs for each identified race and ethnicity, \n",
    "# along with corresponding percentages of patients who have the pheotype pair at UCSF and UC-wide\n",
    "\n",
    "ADpairs_xlsx = dict()\n",
    "make_tables(top_pairs=top_ADinteract_dict, tables=ADpairs_xlsx)"
   ]
  },
  {
   "cell_type": "code",
   "execution_count": null,
   "metadata": {},
   "outputs": [],
   "source": [
    "# Make control dataframes of top phenotype pairs for each identified race and ethnicity, \n",
    "# along with corresponding percentages of patients who have the pheotype pair at UCSF and UC-wide\n",
    "\n",
    "conpairs_xlsx = dict()\n",
    "make_tables(top_pairs=top_coninteract_dict, tables=conpairs_xlsx)"
   ]
  },
  {
   "cell_type": "code",
   "execution_count": null,
   "metadata": {},
   "outputs": [],
   "source": [
    "# Top shared AD edges\n",
    "# Write to excel file\n",
    "# https://pandas.pydata.org/docs/reference/api/pandas.ExcelWriter.html\n",
    "with pd.ExcelWriter(\"Tables/SuppData_6.xlsx\") as writer:\n",
    "    for re in ADpairs_xlsx:\n",
    "        ADpairs_xlsx[re].to_excel(writer, sheet_name=re, index=False)"
   ]
  },
  {
   "cell_type": "code",
   "execution_count": null,
   "metadata": {},
   "outputs": [],
   "source": [
    "# Top shared control edges\n",
    "# Write to excel file\n",
    "# https://pandas.pydata.org/docs/reference/api/pandas.ExcelWriter.html\n",
    "with pd.ExcelWriter(\"Tables/SuppData_7.xlsx\") as writer:\n",
    "    for re in conpairs_xlsx:\n",
    "        conpairs_xlsx[re].to_excel(writer, sheet_name=re, index=False)"
   ]
  },
  {
   "cell_type": "code",
   "execution_count": null,
   "metadata": {},
   "outputs": [],
   "source": []
  }
 ],
 "metadata": {
  "kernelspec": {
   "display_name": "Python 3",
   "language": "python",
   "name": "python3"
  },
  "language_info": {
   "codemirror_mode": {
    "name": "ipython",
    "version": 3
   },
   "file_extension": ".py",
   "mimetype": "text/x-python",
   "name": "python",
   "nbconvert_exporter": "python",
   "pygments_lexer": "ipython3",
   "version": "3.8.3"
  }
 },
 "nbformat": 4,
 "nbformat_minor": 4
}
