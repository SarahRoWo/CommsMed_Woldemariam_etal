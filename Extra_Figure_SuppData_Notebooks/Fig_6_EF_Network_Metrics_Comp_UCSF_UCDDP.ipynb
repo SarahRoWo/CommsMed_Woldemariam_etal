{
 "cells": [
  {
   "cell_type": "markdown",
   "metadata": {},
   "source": [
    "### Fig 6 E, F: Network metrics' comparisons graphs"
   ]
  },
  {
   "cell_type": "code",
   "execution_count": null,
   "metadata": {},
   "outputs": [],
   "source": [
    "import pandas as pd\n",
    "import numpy as np\n",
    "from scipy.stats import zscore\n",
    "import seaborn as sns\n",
    "import matplotlib.pyplot as plt\n",
    "from pylab import *\n",
    "from scipy import stats\n",
    "import os\n",
    "\n",
    "# For graph title\n",
    "import re as re_title\n",
    "\n",
    "# For converting y axis ticks to integers only\n",
    "# https://stackoverflow.com/questions/12050393/how-to-force-the-y-axis-to-only-use-integers-in-matplotlib\n",
    "from matplotlib.ticker import MaxNLocator"
   ]
  },
  {
   "cell_type": "code",
   "execution_count": null,
   "metadata": {},
   "outputs": [],
   "source": [
    "os.chdir(\"..\")"
   ]
  },
  {
   "cell_type": "code",
   "execution_count": null,
   "metadata": {},
   "outputs": [],
   "source": [
    "save = True"
   ]
  },
  {
   "cell_type": "code",
   "execution_count": null,
   "metadata": {},
   "outputs": [],
   "source": [
    "def graph_title(networkmetric):\n",
    "   \"\"\"\n",
    "    Parameters\n",
    "    __________\n",
    "    networkmetric : str\n",
    "        Network metric of interest\n",
    "        \n",
    "    Returns\n",
    "    _______\n",
    "    graph_title : str\n",
    "        Network metric with words separated for visualization\n",
    "    \"\"\"\n",
    "    \n",
    "    word_list = re_title.findall('[A-Z][^A-Z]*', networkmetric)\n",
    "    graph_title = ''\n",
    "    for word in word_list:\n",
    "        if word != word_list[-1]:\n",
    "            graph_title = graph_title + word + ' '\n",
    "        else:\n",
    "            graph_title = graph_title + word\n",
    "    \n",
    "    return graph_title   "
   ]
  },
  {
   "cell_type": "markdown",
   "metadata": {},
   "source": [
    "Read in node_tables files for each network at UCSF and in UCDDP"
   ]
  },
  {
   "cell_type": "code",
   "execution_count": null,
   "metadata": {},
   "outputs": [],
   "source": [
    "node_tables = dict()\n",
    "\n",
    "race_ethnicities = ['Asian', 'Black', 'Latine', 'White']\n",
    "AD_status = ['AD', 'con']\n",
    "\n",
    "for re in race_ethnicities:\n",
    "    for status in AD_status:\n",
    "        node_tables[re+'_'+status+'_UCSF'] = \\\n",
    "        pd.read_csv('Network_Analysis/ADCon_phe/node_tables/'+re+'_'+status+'_5_node_table.csv')\n",
    "        node_tables[re+'_'+status+'_UCDDP'] = \\\n",
    "        pd.read_csv('Network_Analysis/UCDDP/ADCon_phe/node_tables/'+re+'_'+status+'_UCDDP_5_node_table.csv')"
   ]
  },
  {
   "cell_type": "markdown",
   "metadata": {},
   "source": [
    "Specify network metrics measured"
   ]
  },
  {
   "cell_type": "code",
   "execution_count": null,
   "metadata": {},
   "outputs": [],
   "source": [
    "network_metrics = ['AverageShortestPathLength',\n",
    "                   'ClusteringCoefficient',\n",
    "                   'ClosenessCentrality',\n",
    "                   'Eccentricity',\n",
    "                   'Stress',\n",
    "                   'Degree',\n",
    "                   'BetweennessCentrality',\n",
    "                   'NeighborhoodConnectivity',\n",
    "                   'Radiality',\n",
    "                   'TopologicalCoefficient']"
   ]
  },
  {
   "cell_type": "markdown",
   "metadata": {},
   "source": [
    "Order of networks. Used downstream to check that the below for loop is working as expected"
   ]
  },
  {
   "cell_type": "code",
   "execution_count": null,
   "metadata": {},
   "outputs": [],
   "source": [
    "# Order check (to make sure metrics are being attributed to correct networks)\n",
    "order_UCSF = ['Asian_AD_UCSF', \n",
    "              'Asian_con_UCSF', \n",
    "              'Black_AD_UCSF', \n",
    "              'Black_con_UCSF', \n",
    "              'Latine_AD_UCSF', \n",
    "              'Latine_con_UCSF', \n",
    "              'White_AD_UCSF', \n",
    "              'White_con_UCSF']\n",
    "\n",
    "order_UCDDP = ['Asian_AD_UCDDP', \n",
    "               'Asian_con_UCDDP', \n",
    "               'Black_AD_UCDDP', \n",
    "               'Black_con_UCDDP', \n",
    "               'Latine_AD_UCDDP', \n",
    "               'Latine_con_UCDDP', \n",
    "               'White_AD_UCDDP', \n",
    "               'White_con_UCDDP']"
   ]
  },
  {
   "cell_type": "markdown",
   "metadata": {},
   "source": [
    "Make dictionary of metrics, with each metric key corresponding to a list containing the average metric value for each network"
   ]
  },
  {
   "cell_type": "code",
   "execution_count": null,
   "metadata": {},
   "outputs": [],
   "source": [
    "UCSF_metrics = dict()\n",
    "UCDDP_metrics = dict()\n",
    "# Should be the same as network metrics\n",
    "metric_list = list()\n",
    "\n",
    "for metric in network_metrics:\n",
    "    \n",
    "    # For keeping track of order of networks\n",
    "    i = 0\n",
    "    j = 0\n",
    "    \n",
    "    print(metric)\n",
    "    metric_list.append(metric)\n",
    "    \n",
    "    # List of average metric values for each network (8 total in each)\n",
    "    temp_UCSF = list()\n",
    "    temp_UCDDP = list()\n",
    "    \n",
    "    for key in node_tables.keys():\n",
    "        if 'UCSF' in key:\n",
    "            # Double check correct network:\n",
    "            if key == order_UCSF[i]:\n",
    "                temp_UCSF.append(node_tables[key][metric].mean())\n",
    "                i += 1\n",
    "            else:\n",
    "                print(\"UCSF key doesn't match order.\")\n",
    "        elif 'UCDDP' in key:\n",
    "            # Double check correct network:\n",
    "            if key == order_UCDDP[j]:\n",
    "                temp_UCDDP.append(node_tables[key][metric].mean())\n",
    "                j += 1\n",
    "            else:\n",
    "                print(key)\n",
    "                print(\"UCDDP key doesn't match order.\")\n",
    "        else:\n",
    "            print('Institution not specified, please check.')\n",
    "    \n",
    "    UCSF_metrics[metric] = temp_UCSF\n",
    "    UCDDP_metrics[metric] = temp_UCDDP"
   ]
  },
  {
   "cell_type": "code",
   "execution_count": null,
   "metadata": {},
   "outputs": [],
   "source": [
    "metric_list == network_metrics"
   ]
  },
  {
   "cell_type": "markdown",
   "metadata": {},
   "source": [
    "Make dataframe of metrics, one for UCSf and the other for UCDDP"
   ]
  },
  {
   "cell_type": "code",
   "execution_count": null,
   "metadata": {},
   "outputs": [],
   "source": [
    "UCSF_metrics_df = pd.DataFrame(UCSF_metrics, index=order_UCSF)\n",
    "UCDDP_metrics_df = pd.DataFrame(UCDDP_metrics, index=order_UCDDP)"
   ]
  },
  {
   "cell_type": "code",
   "execution_count": null,
   "metadata": {},
   "outputs": [],
   "source": [
    "UCSF_metrics_df['Radiality']"
   ]
  },
  {
   "cell_type": "code",
   "execution_count": null,
   "metadata": {
    "scrolled": false
   },
   "outputs": [],
   "source": [
    "UCDDP_metrics_df['Radiality']"
   ]
  },
  {
   "cell_type": "markdown",
   "metadata": {},
   "source": [
    "Calculate z score to normalize"
   ]
  },
  {
   "cell_type": "code",
   "execution_count": null,
   "metadata": {},
   "outputs": [],
   "source": [
    "# default ddof is zero\n",
    "UCSF_metrics_df_z = UCSF_metrics_df.apply(zscore)\n",
    "UCDDP_metrics_df_z = UCDDP_metrics_df.apply(zscore)"
   ]
  },
  {
   "cell_type": "code",
   "execution_count": null,
   "metadata": {},
   "outputs": [],
   "source": [
    "UCSF_metrics_df_z"
   ]
  },
  {
   "cell_type": "markdown",
   "metadata": {},
   "source": [
    "Scatterplot"
   ]
  },
  {
   "cell_type": "code",
   "execution_count": null,
   "metadata": {},
   "outputs": [],
   "source": [
    "plt.scatter(UCSF_metrics_df_z, UCDDP_metrics_df_z)\n",
    "plt.show()"
   ]
  },
  {
   "cell_type": "markdown",
   "metadata": {},
   "source": [
    "Make scatterplot using seaborn"
   ]
  },
  {
   "cell_type": "code",
   "execution_count": null,
   "metadata": {},
   "outputs": [],
   "source": [
    "# Make index equal between UCSF and UCDDP so that the two dataframes can be merged\n",
    "new_index = list()\n",
    "\n",
    "for network in UCSF_metrics_df_z.index:\n",
    "    new_index.append(network[:-5])\n",
    "\n",
    "print(new_index)"
   ]
  },
  {
   "cell_type": "code",
   "execution_count": null,
   "metadata": {},
   "outputs": [],
   "source": [
    "UCSF_metrics_df_z.index = new_index\n",
    "UCDDP_metrics_df_z.index = new_index"
   ]
  },
  {
   "cell_type": "code",
   "execution_count": null,
   "metadata": {},
   "outputs": [],
   "source": [
    "combined = UCSF_metrics_df_z.merge(UCDDP_metrics_df_z, \n",
    "                                   left_on=UCSF_metrics_df_z.index, \n",
    "                                   right_on=UCDDP_metrics_df_z.index,\n",
    "                                   suffixes=['_UCSF', '_UCDDP'])\n",
    "combined = combined.set_index('key_0')\n",
    "combined.index = combined.index.rename('Network')\n",
    "combined"
   ]
  },
  {
   "cell_type": "markdown",
   "metadata": {},
   "source": [
    "Obtain colors that will be used to identify networks in scatterplot"
   ]
  },
  {
   "cell_type": "code",
   "execution_count": null,
   "metadata": {},
   "outputs": [],
   "source": [
    "# Get hex codes for Set2 (AD networks), Pastel2 (control networks) and Dark2 (metric)\n",
    "# https://stackoverflow.com/questions/33596491/extract-matplotlib-colormap-in-hex-format\n",
    "\n",
    "cmaps = ['Set2', 'Pastel2', 'Dark2']\n",
    "\n",
    "cmap_colors = dict()\n",
    "\n",
    "for colormap in cmaps:\n",
    "    print('Colors for: {}'.format(colormap))\n",
    "    # list of colors for specific colormap:\n",
    "    color_list = list()\n",
    "    cmap = cm.get_cmap(colormap)\n",
    "\n",
    "    for i in range(cmap.N):\n",
    "        rgba = cmap(i)\n",
    "        # rgb2hex accepts rgb or rgba\n",
    "        print(matplotlib.colors.rgb2hex(rgba))\n",
    "        color_list.append(matplotlib.colors.rgb2hex(rgba))\n",
    "    \n",
    "    cmap_colors[colormap] = color_list\n",
    "    \n",
    "    print('\\n')"
   ]
  },
  {
   "cell_type": "code",
   "execution_count": null,
   "metadata": {},
   "outputs": [],
   "source": [
    "# Make list of paired colors for Set2 and Pastel2, which will be used to color points by network\n",
    "network_colors = list()\n",
    "\n",
    "for i in range(4):\n",
    "    network_colors.append(cmap_colors['Set2'][i])\n",
    "    network_colors.append(cmap_colors['Pastel2'][i])\n",
    "\n",
    "print(network_colors)"
   ]
  },
  {
   "cell_type": "code",
   "execution_count": null,
   "metadata": {},
   "outputs": [],
   "source": [
    "combined.index"
   ]
  },
  {
   "cell_type": "code",
   "execution_count": null,
   "metadata": {},
   "outputs": [],
   "source": [
    "combined_index_fig = ['Asian-identified patients with AD', \n",
    "                      'Asian-identified control patients', \n",
    "                      'Black-identified patients with AD', \n",
    "                      'Black-identified control patients', \n",
    "                      'Latine-identified patients with AD',\n",
    "                      'Latine-identified control patients', \n",
    "                      'White-identified patients with AD', \n",
    "                      'White-identified control patients']"
   ]
  },
  {
   "cell_type": "code",
   "execution_count": null,
   "metadata": {},
   "outputs": [],
   "source": [
    "# Label was useful parameter for making legend\n",
    "# https://matplotlib.org/3.5.0/api/_as_gen/matplotlib.pyplot.legend.html\n",
    "fig, (ax1, ax2) = plt.subplots(1,2, figsize=(15,3.75), sharey=True)\n",
    "\n",
    "#https://stackoverflow.com/questions/21321670/how-to-change-fonts-in-matplotlib-python\n",
    "kwargs = {'fontname' : 'Arial'}\n",
    "\n",
    "plt.rcParams.update({'font.family':'sans-serif'})\n",
    "plt.rcParams.update({'font.sans-serif':'Arial'})\n",
    "\n",
    "i = 0 # So that legend for network-labeled graph gets generated once\n",
    "for metric in metric_list:\n",
    "    # network-labeled graph\n",
    "    if i == 0:\n",
    "        ax1 = sns.scatterplot(data=combined, \n",
    "                              x=metric+'_UCSF', \n",
    "                              y=metric+'_UCDDP', \n",
    "                              hue=combined_index_fig, \n",
    "                              palette=network_colors, \n",
    "                              ax=ax1)\n",
    "        i += 1\n",
    "    else:\n",
    "         ax1 = sns.scatterplot(data=combined, \n",
    "                               x=metric+'_UCSF', \n",
    "                               y=metric+'_UCDDP', \n",
    "                               hue=combined_index_fig, \n",
    "                               palette=network_colors,\n",
    "                               legend=False,\n",
    "                               ax=ax1)\n",
    "    \n",
    "    # metric-labeled graph\n",
    "    ax2 = sns.scatterplot(data=combined, \n",
    "                          x=metric+'_UCSF', \n",
    "                          y=metric+'_UCDDP', \n",
    "                          label=graph_title(metric), \n",
    "                          ax=ax2)\n",
    "\n",
    "#https://stackoverflow.com/questions/21321670/how-to-change-fonts-in-matplotlib-python\n",
    "kwargs = {'fontname' : 'Arial'}\n",
    "\n",
    "ax1.set_xlabel('UCSF Normalized Units', size=14, **kwargs)\n",
    "ax2.set_xlabel('UCSF Normalized Units', size=14, **kwargs)\n",
    "ax1.set_ylabel('UC-wide Normalized Units', size=14, **kwargs)\n",
    "\n",
    "\n",
    "for tick in ax1.xaxis.get_major_ticks():\n",
    "    tick.label.set_fontsize(12)\n",
    "for tick in ax2.xaxis.get_major_ticks():\n",
    "    tick.label.set_fontsize(12)\n",
    "for tick in ax1.yaxis.get_major_ticks():\n",
    "    tick.label.set_fontsize(12)\n",
    "ax1.yaxis.set_major_locator(MaxNLocator(integer=True))\n",
    "\n",
    "\n",
    "ax1.legend(bbox_to_anchor=(-0.17,1))\n",
    "ax2.legend(bbox_to_anchor=(1.05,1.03))\n",
    "\n",
    "ax2.yaxis.set_visible(False)\n",
    "plt.tight_layout()\n",
    "\n",
    "if save:\n",
    "    plt.savefig(os.getcwd()+'/Figures/Fig6_EF.pdf', bbox_inches='tight')   \n",
    "\n",
    "plt.show()"
   ]
  },
  {
   "cell_type": "markdown",
   "metadata": {},
   "source": [
    "Obtain correlation"
   ]
  },
  {
   "cell_type": "code",
   "execution_count": null,
   "metadata": {},
   "outputs": [],
   "source": [
    "UCSF_metrics_array_z = UCSF_metrics_df_z.to_numpy().flatten()\n",
    "UCDDP_metrics_array_z = UCDDP_metrics_df_z.to_numpy().flatten()"
   ]
  },
  {
   "cell_type": "code",
   "execution_count": null,
   "metadata": {},
   "outputs": [],
   "source": [
    "stats.spearmanr(UCSF_metrics_array_z, UCDDP_metrics_array_z)"
   ]
  },
  {
   "cell_type": "code",
   "execution_count": null,
   "metadata": {},
   "outputs": [],
   "source": [
    "UCSF_metrics_df_z"
   ]
  },
  {
   "cell_type": "code",
   "execution_count": null,
   "metadata": {},
   "outputs": [],
   "source": []
  }
 ],
 "metadata": {
  "kernelspec": {
   "display_name": "Python 3",
   "language": "python",
   "name": "python3"
  },
  "language_info": {
   "codemirror_mode": {
    "name": "ipython",
    "version": 3
   },
   "file_extension": ".py",
   "mimetype": "text/x-python",
   "name": "python",
   "nbconvert_exporter": "python",
   "pygments_lexer": "ipython3",
   "version": "3.8.3"
  }
 },
 "nbformat": 4,
 "nbformat_minor": 4
}
