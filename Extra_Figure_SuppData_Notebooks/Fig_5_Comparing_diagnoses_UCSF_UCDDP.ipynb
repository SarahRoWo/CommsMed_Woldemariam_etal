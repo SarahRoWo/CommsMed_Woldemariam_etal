{
 "cells": [
  {
   "cell_type": "markdown",
   "metadata": {},
   "source": [
    "## Fig 5"
   ]
  },
  {
   "cell_type": "code",
   "execution_count": null,
   "metadata": {},
   "outputs": [],
   "source": [
    "import pandas as pd\n",
    "import numpy as np\n",
    "import os\n",
    "import statsmodels.stats\n",
    "import statsmodels.api as sm\n",
    "import seaborn as sns\n",
    "import matplotlib.pyplot as plt\n",
    "from scipy.stats import spearmanr"
   ]
  },
  {
   "cell_type": "code",
   "execution_count": null,
   "metadata": {},
   "outputs": [],
   "source": [
    "pd.set_option('display.max_rows', 150)"
   ]
  },
  {
   "cell_type": "code",
   "execution_count": null,
   "metadata": {},
   "outputs": [],
   "source": [
    "save = True"
   ]
  },
  {
   "cell_type": "markdown",
   "metadata": {},
   "source": [
    "### Import data"
   ]
  },
  {
   "cell_type": "code",
   "execution_count": null,
   "metadata": {},
   "outputs": [],
   "source": [
    "# All comparisons\n",
    "all_UCSF = pd.read_csv('Tables/PheDiff_RE.csv')\n",
    "# Remove significance column for UCSF\n",
    "all_UCSF = all_UCSF.iloc[:, :-1]\n",
    "\n",
    "all_UCDDP = pd.read_csv('Tables/PheDiff_RE_UCDDP.csv')\n",
    "# Change column names for -log_pvalue_RE so that underscore is removed \n",
    "for column in all_UCDDP.columns:\n",
    "    if column[0] == '_':\n",
    "        all_UCDDP = all_UCDDP.rename({column: column[1:]}, axis=1)"
   ]
  },
  {
   "cell_type": "code",
   "execution_count": null,
   "metadata": {},
   "outputs": [],
   "source": [
    "all_UCSF['Sig_A'].value_counts()"
   ]
  },
  {
   "cell_type": "code",
   "execution_count": null,
   "metadata": {},
   "outputs": [],
   "source": [
    "all_UCSF.shape"
   ]
  },
  {
   "cell_type": "code",
   "execution_count": null,
   "metadata": {},
   "outputs": [],
   "source": [
    "all_UCDDP.shape"
   ]
  },
  {
   "cell_type": "code",
   "execution_count": null,
   "metadata": {},
   "outputs": [],
   "source": [
    "all_UCSF.columns == all_UCDDP.columns"
   ]
  },
  {
   "cell_type": "code",
   "execution_count": null,
   "metadata": {},
   "outputs": [],
   "source": [
    "both = all_UCSF.merge(all_UCDDP, left_on='phenotype', right_on='phenotype', suffixes=('_UCSF', '_UCDDP'))"
   ]
  },
  {
   "cell_type": "code",
   "execution_count": null,
   "metadata": {},
   "outputs": [],
   "source": [
    "both.shape"
   ]
  },
  {
   "cell_type": "code",
   "execution_count": null,
   "metadata": {},
   "outputs": [],
   "source": [
    "# Verified all phenotypes in UCSF are found in UCDDP\n",
    "# UCDDP phenotypes will be used to measure correlation\n",
    "all_UCDDP[all_UCDDP['phenotype'].isin(all_UCSF['phenotype'])].shape\n",
    "\n",
    "# all_UCSF will now only have phenotypes that are present in UCDDP\n",
    "all_UCSF = all_UCSF[all_UCSF['phenotype'].isin(all_UCDDP['phenotype'])]"
   ]
  },
  {
   "cell_type": "markdown",
   "metadata": {},
   "source": [
    "### Phenotypes significant for patients only at UCSF and both at UCSF and UC-wide"
   ]
  },
  {
   "cell_type": "code",
   "execution_count": null,
   "metadata": {},
   "outputs": [],
   "source": [
    "suffixes = ['_A_AD', '_B_AD', '_L_AD', '_W_AD']\n",
    "race_ethnicities = ['Asian', 'Black', 'Latine', 'White']"
   ]
  },
  {
   "cell_type": "code",
   "execution_count": null,
   "metadata": {},
   "outputs": [],
   "source": [
    "# Make a significant in both column for each race and ethnicity\n",
    "def sig_overlap(dataframe):\n",
    "    \"\"\"\n",
    "    Parameters\n",
    "    __________\n",
    "    dataframe : pandas DataFrame\n",
    "        Contains Significance column for phenotypes\n",
    "    \n",
    "    Returns\n",
    "    _______\n",
    "    dataframe : pandas DataFrame\n",
    "        Contains new column indicating significance of phenotype at UCSF,\n",
    "        UC-wide, or both\n",
    "    \"\"\"\n",
    "    \n",
    "    suffixes = ['_A_AD', '_B_AD', '_L_AD', '_W_AD']\n",
    "    \n",
    "    for suffix in suffixes:\n",
    "        if (dataframe['Sig'+suffix+'_UCSF'] == True) & (dataframe['Sig'+suffix+'_UCDDP'] == True):\n",
    "            dataframe['Significance'+suffix] = 'UCSF and UC-wide'\n",
    "        elif dataframe['Sig'+suffix+'_UCSF'] == True:\n",
    "            dataframe['Significance'+suffix] = 'UCSF only'\n",
    "        elif dataframe['Sig'+suffix+'_UCDDP'] == True:\n",
    "            dataframe['Significance'+suffix] = 'UCDDP only'\n",
    "        else:\n",
    "            dataframe['Significance'+suffix] = 'Neither'\n",
    "    \n",
    "    return dataframe"
   ]
  },
  {
   "cell_type": "code",
   "execution_count": null,
   "metadata": {},
   "outputs": [],
   "source": [
    "both = both.apply(sig_overlap, axis=1)"
   ]
  },
  {
   "cell_type": "code",
   "execution_count": null,
   "metadata": {},
   "outputs": [],
   "source": [
    "# Get info on number of significant phenotypes only at UCSF and both at UCSF and UC-wide\n",
    "# in addition to percentage of significant phenotypes at UCSF that are validated in UCDDP\n",
    "for suffix, race_ethnicity in zip(suffixes, race_ethnicities):\n",
    "    UCSF_num = both[both['Significance'+suffix] == 'UCSF only'].shape[0]\n",
    "    overlap_num = both[both['Significance'+suffix] == 'UCSF and UC-wide'].shape[0]\n",
    "    total_num = UCSF_num + overlap_num\n",
    "            \n",
    "    pct_overlap = (overlap_num / (UCSF_num + overlap_num)) * 100\n",
    "    pct_overlap = round(pct_overlap, 2)\n",
    "    \n",
    "    print('For patients who identify as {}, {} phenotypes were found to be significant at UCSF'.format(race_ethnicity,\n",
    "                                                                                                       total_num) + \\\n",
    "          ' and {} of these phenotypes were also found in UCDDP, validating {} percent'.format(overlap_num,\n",
    "                                                                                              pct_overlap) + \\\n",
    "          ' of significant phenotypes found at UCSF. \\n ')"
   ]
  },
  {
   "cell_type": "markdown",
   "metadata": {},
   "source": [
    "**Correlation results**"
   ]
  },
  {
   "cell_type": "code",
   "execution_count": null,
   "metadata": {},
   "outputs": [],
   "source": [
    "both.columns"
   ]
  },
  {
   "cell_type": "code",
   "execution_count": null,
   "metadata": {},
   "outputs": [],
   "source": [
    "suffixes_2 = ['_A', '_B', '_L', '_W']"
   ]
  },
  {
   "cell_type": "code",
   "execution_count": null,
   "metadata": {},
   "outputs": [],
   "source": [
    "# For phenotypes significant for UCSF that are validated in UCDDP:\n",
    "print('There are for phentoypes significant at UCSF and UC-wide. \\n')\n",
    "for suffix, suffix_2, race_ethnicity in zip(suffixes, suffixes_2, race_ethnicities):\n",
    "    temp = both[both['Significance'+suffix] == 'UCSF and UC-wide']\n",
    "    log2_UCSF = temp['log2_oddsratio'+suffix_2+'_UCSF'].to_list()\n",
    "    log2_UCDDP = temp['log2_oddsratio'+suffix_2+'_UCDDP'].to_list()\n",
    "    \n",
    "    spearman = spearmanr(log2_UCSF, log2_UCDDP)\n",
    "    \n",
    "    print('Spearman rank correlation coefficient result for patients who identify as {}: {} \\n'.format(race_ethnicity,\n",
    "                                                                                                       spearman))"
   ]
  },
  {
   "cell_type": "code",
   "execution_count": null,
   "metadata": {},
   "outputs": [],
   "source": [
    "# For phenotypes significant for UCSF only:\n",
    "print('There are for phentoypes significant at UCSF only. \\n')\n",
    "for suffix, suffix_2, race_ethnicity in zip(suffixes, suffixes_2, race_ethnicities):\n",
    "    temp = both[both['Significance'+suffix] == 'UCSF only']\n",
    "    log2_UCSF = temp['log2_oddsratio'+suffix_2+'_UCSF'].to_list()\n",
    "    log2_UCDDP = temp['log2_oddsratio'+suffix_2+'_UCDDP'].to_list()\n",
    "    \n",
    "    spearman = spearmanr(log2_UCSF, log2_UCDDP)\n",
    "    \n",
    "    print('Spearman rank correlation coefficient result for patients who identify as {}: {} \\n'.format(race_ethnicity,\n",
    "                                                                                                       spearman))"
   ]
  },
  {
   "cell_type": "markdown",
   "metadata": {},
   "source": [
    "20220421 Determine number of phenotypes significant at UCSF to see percentage of what mapped UC-wide"
   ]
  },
  {
   "cell_type": "code",
   "execution_count": null,
   "metadata": {},
   "outputs": [],
   "source": [
    "for suffix, race_ethnicity in zip(suffixes, race_ethnicities):\n",
    "    temp_UCSF_UCDDP = both[(both['Significance'+suffix] == 'UCSF and UC-wide') | (both['Significance'+suffix] == 'UCSF only')]\n",
    "    temp_UCSF = all_UCSF[all_UCSF['Sig'+suffix] == True]\n",
    "    print('# of phenotypes significant for patients with AD at UCSF: {}'.format(temp_UCSF.shape[0]))\n",
    "    print('# of significant phenotypes mapped UC-wide: {}'.format(temp_UCSF.shape[0]))\n",
    "    \n",
    "    temp_pct = (temp_UCSF_UCDDP.shape[0] / temp_UCSF.shape[0]) * 100\n",
    "    temp_pct = round(temp_pct, 2)\n",
    "    print('% of significant phenotypes mapped UC-wide: {}%'.format(temp_pct))\n",
    "    print('\\n')"
   ]
  },
  {
   "cell_type": "markdown",
   "metadata": {},
   "source": [
    "20220421 Determine number of phenotypes significant at UCSF and number of significant phenotypes at UCSF validated UC-wide"
   ]
  },
  {
   "cell_type": "code",
   "execution_count": null,
   "metadata": {},
   "outputs": [],
   "source": [
    "for suffix, race_ethnicity in zip(suffixes, race_ethnicities):\n",
    "    temp_UCSF_UCDDP = both[(both['Significance'+suffix] == 'UCSF and UC-wide') | (both['Significance'+suffix] == 'UCSF only')]\n",
    "    temp_val = both[(both['Significance'+suffix] == 'UCSF and UC-wide')]\n",
    "    print('# of phenotypes significant for patients with AD who identify as {} at UCSF: {}'.format(race_ethnicity,\n",
    "                                                                                                   temp_UCSF_UCDDP.shape[0]))\n",
    "    print('# of these significant phenotypes that validated UC-wide: {}'.format(temp_val.shape[0]))\n",
    "    temp_pct = (temp_val.shape[0] / temp_UCSF_UCDDP.shape[0]) * 100\n",
    "    temp_pct = round(temp_pct, 2)\n",
    "    print('% of phenotypes validated UC-wide: {}%'.format(temp_pct))\n",
    "    print('\\n')"
   ]
  },
  {
   "cell_type": "markdown",
   "metadata": {},
   "source": [
    "**log-log plots**"
   ]
  },
  {
   "cell_type": "code",
   "execution_count": null,
   "metadata": {},
   "outputs": [],
   "source": [
    "save = True"
   ]
  },
  {
   "cell_type": "markdown",
   "metadata": {},
   "source": [
    "20221216 [Changing axes ticks' labels' font sizes](https://stackoverflow.com/questions/6390393/matplotlib-make-tick-labels-font-size-smaller)"
   ]
  },
  {
   "cell_type": "code",
   "execution_count": null,
   "metadata": {},
   "outputs": [],
   "source": [
    "#https://stackoverflow.com/questions/21321670/how-to-change-fonts-in-matplotlib-python\n",
    "#kwargs = {'fontname' : 'Arial'}\n",
    "\n",
    "plt.rcParams.update({'font.family':'sans-serif'})\n",
    "plt.rcParams.update({'font.sans-serif':'Arial'})\n",
    "\n",
    "for suffix, suffix_2, race_ethnicity in zip(suffixes, suffixes_2, race_ethnicities):\n",
    "    temp = both[(both['Significance'+suffix] == 'UCSF and UC-wide') | (both['Significance'+suffix] == 'UCSF only')]\n",
    "    temp = temp.rename({'Significance'+suffix : 'Significance'}, axis=1)\n",
    "    \n",
    "    plt.figure()\n",
    "    ax = sns.scatterplot(x='log2_oddsratio'+suffix_2+'_UCSF', \n",
    "                         y='log2_oddsratio'+suffix_2+'_UCDDP', \n",
    "                         data=temp,\n",
    "                         hue='Significance',\n",
    "                         linewidth=0.1, \n",
    "                         alpha=0.55,\n",
    "                         s=25)\n",
    "    ax.set_xlabel('$\\mathregular{log_2}$(UCSF OR: AD/Control) \\n' + race_ethnicity + '-identified patients', fontsize=18)\n",
    "    ax.set_ylabel('$\\mathregular{log_2}$(UC-wide OR: AD/Control) \\n' + race_ethnicity + '-identified patients', fontsize=18)\n",
    "    \n",
    "    for tick in ax.xaxis.get_major_ticks():\n",
    "        tick.label.set_fontsize(16)\n",
    "    for tick in ax.yaxis.get_major_ticks():\n",
    "        tick.label.set_fontsize(16)\n",
    "        \n",
    "    plt.legend(fontsize='medium')\n",
    "\n",
    "    if save:\n",
    "        if os.path.isdir('Figures/comp'):\n",
    "            ax.figure.savefig('Figures/comp/'+race_ethnicity+'_loglog.pdf', \n",
    "                              bbox_inches='tight',\n",
    "                              dpi=300)\n",
    "        else:\n",
    "            os.mkdir('Figures/comp')\n",
    "            ax.figure.savefig('Figures/comp/'+race_ethnicity+'_loglog.pdf', \n",
    "                              bbox_inches='tight',\n",
    "                              dpi=300)"
   ]
  },
  {
   "cell_type": "code",
   "execution_count": null,
   "metadata": {},
   "outputs": [],
   "source": []
  }
 ],
 "metadata": {
  "kernelspec": {
   "display_name": "Python 3",
   "language": "python",
   "name": "python3"
  },
  "language_info": {
   "codemirror_mode": {
    "name": "ipython",
    "version": 3
   },
   "file_extension": ".py",
   "mimetype": "text/x-python",
   "name": "python",
   "nbconvert_exporter": "python",
   "pygments_lexer": "ipython3",
   "version": "3.8.3"
  }
 },
 "nbformat": 4,
 "nbformat_minor": 4
}
