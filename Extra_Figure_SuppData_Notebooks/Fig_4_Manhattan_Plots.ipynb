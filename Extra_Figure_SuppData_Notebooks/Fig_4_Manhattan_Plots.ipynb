{
 "cells": [
  {
   "cell_type": "markdown",
   "metadata": {},
   "source": [
    "## Manhattan Plots "
   ]
  },
  {
   "cell_type": "code",
   "execution_count": null,
   "metadata": {},
   "outputs": [],
   "source": [
    "import pandas as pd\n",
    "import numpy as np\n",
    "import math\n",
    "import os\n",
    "# display Pandas tables\n",
    "# https://stackoverflow.com/questions/26873127/show-dataframe-as-table-in-ipython-notebook\n",
    "from IPython.display import display"
   ]
  },
  {
   "cell_type": "code",
   "execution_count": null,
   "metadata": {},
   "outputs": [],
   "source": [
    "diagkeys = ['phenotype']\n",
    "n = 'phenotype'"
   ]
  },
  {
   "cell_type": "code",
   "execution_count": null,
   "metadata": {},
   "outputs": [],
   "source": [
    "os.chdir(\"..\")"
   ]
  },
  {
   "cell_type": "code",
   "execution_count": null,
   "metadata": {},
   "outputs": [],
   "source": [
    "%run -i setup_functions.py"
   ]
  },
  {
   "cell_type": "code",
   "execution_count": null,
   "metadata": {},
   "outputs": [],
   "source": [
    "pd.set_option('display.max_rows', 200)\n",
    "pd.set_option('display.max_columns', 50)\n",
    "np.set_printoptions(threshold=50)"
   ]
  },
  {
   "cell_type": "code",
   "execution_count": null,
   "metadata": {},
   "outputs": [],
   "source": [
    "codemap3 = (['circulatory system', 'congenital anomalies', 'dermatologic',\n",
    "             'digestive', 'endocrine/metabolic', 'genitourinary',\n",
    "             'hematopoietic', 'infectious diseases', 'injuries & poisonings',\n",
    "             'mental disorders', 'musculoskeletal', 'neoplasms', 'neurological',\n",
    "             'pregnancy complications', 'respiratory', 'sense organs',\n",
    "             'symptoms'])"
   ]
  },
  {
   "cell_type": "code",
   "execution_count": null,
   "metadata": {},
   "outputs": [],
   "source": [
    "%run -i plotting_functions.py"
   ]
  },
  {
   "cell_type": "code",
   "execution_count": null,
   "metadata": {},
   "outputs": [],
   "source": [
    "UCSF = pd.read_csv('Tables/PheDiff_RE.csv')\n",
    "UCDDP = pd.read_csv('Tables/PheDiff_RE.csv')"
   ]
  },
  {
   "cell_type": "code",
   "execution_count": null,
   "metadata": {},
   "outputs": [],
   "source": [
    "UCSF.columns"
   ]
  },
  {
   "cell_type": "markdown",
   "metadata": {},
   "source": [
    "Get top 9 phenotypes other than dementias phenotype with the lowest p-values for all four racialized populations and make manhattan plot"
   ]
  },
  {
   "cell_type": "code",
   "execution_count": null,
   "metadata": {},
   "outputs": [],
   "source": [
    "suffixes = ['_A', '_B', '_L', '_W']\n",
    "race_ethnicities = ['Asian', 'Black', 'Latine', 'White']"
   ]
  },
  {
   "cell_type": "code",
   "execution_count": null,
   "metadata": {},
   "outputs": [],
   "source": [
    "top_phe_dict = dict()\n",
    "\n",
    "# Remove Dementias phenotype\n",
    "UCSF_temp = UCSF[UCSF['phenotype'] != 'Dementias']\n",
    "UCDDP_temp = UCDDP[UCDDP['phenotype'] != 'Dementias']\n",
    "\n",
    "for suffix, race_ethnicity in zip(suffixes, race_ethnicities):\n",
    "    top_phe_dict[race_ethnicity] = set()\n",
    "    i = 9\n",
    "    while len(top_phe_dict[race_ethnicity]) < 9:\n",
    "        UCSF_temp2 = set(UCSF_temp.sort_values('pvalue'+suffix).head(i)['phenotype'])\n",
    "        UCDDP_temp2 = set(UCDDP_temp.sort_values('pvalue'+suffix).head(i)['phenotype'])\n",
    "        top_phe_dict[race_ethnicity] = UCSF_temp2 & UCDDP_temp2\n",
    "        i +=1"
   ]
  },
  {
   "cell_type": "code",
   "execution_count": null,
   "metadata": {
    "scrolled": true
   },
   "outputs": [],
   "source": [
    "for re in top_phe_dict:\n",
    "    print(re)\n",
    "    print(top_phe_dict[re])\n",
    "    print('\\n')"
   ]
  },
  {
   "cell_type": "code",
   "execution_count": null,
   "metadata": {},
   "outputs": [],
   "source": [
    "# Overlapping phenotypes\n",
    "overlap = top_phe_dict['Asian'] & top_phe_dict['Black'] & top_phe_dict['Latine'] & top_phe_dict['White']"
   ]
  },
  {
   "cell_type": "code",
   "execution_count": null,
   "metadata": {},
   "outputs": [],
   "source": [
    "# Find top phenotypes found only in one identified race and ethnicity (if applicable)\n",
    "for re1 in race_ethnicities:\n",
    "    temp_overlap_dict = dict()\n",
    "    j = 1\n",
    "    for _, re2 in enumerate(race_ethnicities):\n",
    "        if re1 != re2:\n",
    "            temp_overlap_dict[j] = top_phe_dict[re1] - top_phe_dict[re2]\n",
    "            j += 1\n",
    "    # for the three comparisons, print which phenotypes specific to identified race and ethnicity\n",
    "    temp_overlap = temp_overlap_dict[1] & temp_overlap_dict[2] & temp_overlap_dict[3] \n",
    "    print('Phenotypes specific to patients who identify as {}: {}'.format(re1, temp_overlap))"
   ]
  },
  {
   "cell_type": "code",
   "execution_count": null,
   "metadata": {},
   "outputs": [],
   "source": [
    "# Add annotation rows\n",
    "# Have to use map to 'apply' function based on index values\n",
    "# source: https://stackoverflow.com/questions/20025325/apply-function-on-dataframe-index\n",
    "for re, suffix in zip(top_phe_dict, suffixes):\n",
    "    UCSF['annotate'+suffix] = UCSF['phenotype'].apply(lambda x: 1 if x in top_phe_dict[re] else 0)"
   ]
  },
  {
   "cell_type": "markdown",
   "metadata": {},
   "source": [
    "Find cutoff between top and bottom plot to figure out where to add line breaks"
   ]
  },
  {
   "cell_type": "code",
   "execution_count": null,
   "metadata": {},
   "outputs": [],
   "source": [
    "# https://stackoverflow.com/questions/26454649/python-round-up-to-the-nearest-ten\n",
    "# round up to nearest ten\n",
    "def roundup(x):\n",
    "    return int(math.ceil(x / 10.0)) * 10\n",
    "\n",
    "# round down to nearest ten\n",
    "def rounddown(x):\n",
    "    return int(math.floor(x / 10.0)) * 10"
   ]
  },
  {
   "cell_type": "markdown",
   "metadata": {},
   "source": [
    "Cutoff for top plot"
   ]
  },
  {
   "cell_type": "code",
   "execution_count": null,
   "metadata": {},
   "outputs": [],
   "source": [
    "for re, suffix in zip(top_phe_dict, suffixes):\n",
    "    temp = UCSF.sort_values(by='-log_pvalue'+suffix, ascending=False)\n",
    "    # Make sure top phenotype (with highest -log 10 p-value) is Alzheimer's disease\n",
    "    # top phenotype for Black-identified patients is Demetias due to how p-values were calculated for infinity\n",
    "    print(temp['phenotype'].iloc[0])\n",
    "    print('-log_pvalue'+suffix+' top cutoff for top graph')\n",
    "    print(temp['-log_pvalue'+suffix].iloc[0])\n",
    "    cutoff_temp = roundup(temp['-log_pvalue'+suffix].iloc[0])\n",
    "    print(cutoff_temp)\n",
    "    print('\\n')"
   ]
  },
  {
   "cell_type": "code",
   "execution_count": null,
   "metadata": {},
   "outputs": [],
   "source": [
    "for re, suffix in zip(top_phe_dict, suffixes):\n",
    "    temp = UCSF.sort_values(by='-log_pvalue'+suffix, ascending=False)\n",
    "    # Make sure top phenotype (with highest -log 10 p-value) is Alzheimer's disease\n",
    "    # top phenotype for Black-identified patients is Demetias due to how p-values were calculated for infinity\n",
    "    print(temp['phenotype'].iloc[0])\n",
    "    print('-log_pvalue'+suffix+' bottom cutoff for top graph')\n",
    "    print(temp['-log_pvalue'+suffix].iloc[0])\n",
    "    cutoff_temp = rounddown(temp['-log_pvalue'+suffix].iloc[0])\n",
    "    print(cutoff_temp)\n",
    "    print('\\n')"
   ]
  },
  {
   "cell_type": "markdown",
   "metadata": {},
   "source": [
    "Cutoff for bottom plot"
   ]
  },
  {
   "cell_type": "code",
   "execution_count": null,
   "metadata": {
    "scrolled": true
   },
   "outputs": [],
   "source": [
    "for re, suffix in zip(top_phe_dict, suffixes):\n",
    "    temp = UCSF[UCSF['phenotype'].isin(top_phe_dict[re])].sort_values(by='-log_pvalue'+suffix, ascending=False)\n",
    "    print(temp['phenotype'].iloc[0])\n",
    "    print('-log_pvalue'+suffix+' cutoff for graph')\n",
    "    print(temp['-log_pvalue'+suffix].iloc[0])\n",
    "    cutoff_temp = roundup(temp['-log_pvalue'+suffix].iloc[0])\n",
    "    print(cutoff_temp)\n",
    "    print('\\n')"
   ]
  },
  {
   "cell_type": "code",
   "execution_count": null,
   "metadata": {},
   "outputs": [],
   "source": [
    "save = True"
   ]
  },
  {
   "cell_type": "code",
   "execution_count": null,
   "metadata": {},
   "outputs": [],
   "source": [
    "if not os.path.isdir('Figures/Manhattan'):\n",
    "    os.mkdir('Figures/Manhattan')"
   ]
  },
  {
   "cell_type": "code",
   "execution_count": null,
   "metadata": {},
   "outputs": [],
   "source": [
    "dims = (40,10)\n",
    "figtype = 'pdf'\n",
    "fig, ax = marker.mhat_RE(df=UCSF, \n",
    "                         logp='-log_pvalue_A',\n",
    "                         chromo='icd10_chapter', \n",
    "                         suffix='_A',\n",
    "                         dim=dims, \n",
    "                         rows=9, \n",
    "                         columns=2, \n",
    "                         nrowstop=2, # number of rows for top subplot\n",
    "                         nrowsmid=6, # number of rows for middle subplot\n",
    "                         topmin=250, # min y-axis value for top subplot\n",
    "                         topmax=270, # max y-axis value for top subplot\n",
    "                         mainmin=0, # min y-axis value for middle subplot\n",
    "                         mainmax=60, # max y-axis value for middle subplot\n",
    "                         yskip=50, \n",
    "                         gwas_sign_line=True, \n",
    "                         markernames=None, \n",
    "                         markeridcol='index',\n",
    "                         plotlabelrotation=60, \n",
    "                         show=not save,\n",
    "                         axlabelfontsize=31, \n",
    "                         gfont=6, \n",
    "                         dotsize=25, # for annotated, dotsize=18\n",
    "                         axtickfontsize=25, \n",
    "                         gwasp=5.3705692803437166e-05, # bc value (0.05/931)\n",
    "                         icd10_mapping=codemap3, \n",
    "                         ar=90,\n",
    "                         figtype='pdf', \n",
    "                         figname=\"Alz-Con_miami_\"+n, \n",
    "                         axxlabel='Phecode Category', \n",
    "                         annotatefontsize=22.25,\n",
    "                         autoalign=False,\n",
    "                         expand_text=(0.7, 0.5),\n",
    "                         expand_points=(0.5, 0.5),\n",
    "                         textcolor='#66C2A5',\n",
    "                         figtitle='UCSF \\n AD vs. Control Manhattan Plot \\n Asian-identified patients',\n",
    "                         overlap=overlap) # To bold common phenotypes\n",
    "\n",
    "if save: \n",
    "    plt.savefig('Figures/Manhattan/Fig_4A_' + n + '.pdf', \n",
    "                bbox_inches='tight')\n",
    "plt.show()"
   ]
  },
  {
   "cell_type": "code",
   "execution_count": null,
   "metadata": {},
   "outputs": [],
   "source": [
    "dims = (40,10)\n",
    "figtype = 'pdf'\n",
    "fig, ax = marker.mhat_RE(df=UCSF, \n",
    "                         logp='-log_pvalue_B',\n",
    "                         chromo='icd10_chapter',\n",
    "                         suffix='_B',\n",
    "                         dim=dims, \n",
    "                         rows=10, \n",
    "                         columns=2, \n",
    "                         nrowstop=1, # number of rows for top subplot\n",
    "                         nrowsmid=8, # number of rows for middle subplot\n",
    "                         topmin=240, # min y-axis value for top subplot\n",
    "                         topmax=250, # max y-axis value for top subplot\n",
    "                         mainmin=0, # min y-axis value for middle subplot\n",
    "                         mainmax=80, # max y-axis value for middle subplot\n",
    "                         yskip=50, \n",
    "                         gwas_sign_line=True, \n",
    "                         markernames=None, \n",
    "                         markeridcol='index',\n",
    "                         plotlabelrotation=60, \n",
    "                         show=not save,\n",
    "                         axlabelfontsize=31, \n",
    "                         gfont=6, \n",
    "                         dotsize=25, # for annotated, dotsize=18 \n",
    "                         axtickfontsize=25, \n",
    "                         gwasp=5.3705692803437166e-05, # bc value (0.05/931)\n",
    "                         icd10_mapping=codemap3, \n",
    "                         ar=90,\n",
    "                         figtype='pdf', \n",
    "                         figname=\"Alz-Con_miami_\"+n, \n",
    "                         axxlabel='Phecode Category', \n",
    "                         annotatefontsize=22.25,\n",
    "                         autoalign=False,\n",
    "                         expand_text=(0.7, 0.5),\n",
    "                         expand_points=(0.5, 0.5),\n",
    "                         textcolor='#FC8D62',\n",
    "                         figtitle='UCSF \\n AD vs. Control Manhattan Plot \\n Black-identified patients',\n",
    "                         overlap=overlap)\n",
    "\n",
    "if save: \n",
    "    plt.savefig('Figures/Manhattan/Fig_4B_' + n + '.pdf', \n",
    "                bbox_inches='tight')\n",
    "plt.show()"
   ]
  },
  {
   "cell_type": "code",
   "execution_count": null,
   "metadata": {},
   "outputs": [],
   "source": [
    "dims = (40,10)\n",
    "figtype = 'pdf'\n",
    "fig, ax = marker.mhat_RE(df=UCSF, \n",
    "                         logp='-log_pvalue_L',\n",
    "                         chromo='icd10_chapter', \n",
    "                         suffix='_L',\n",
    "                         dim=dims, \n",
    "                         rows=10, \n",
    "                         columns=2, \n",
    "                         nrowstop=2, # number of rows for top subplot\n",
    "                         nrowsmid=7, # number of rows for middle subplot\n",
    "                         topmin=290, # min y-axis value for top subplot\n",
    "                         topmax=310, # max y-axis value for top subplot\n",
    "                         mainmin=0, # min y-axis value for middle subplot\n",
    "                         mainmax=70, # max y-axis value for middle subplot\n",
    "                         yskip=50, \n",
    "                         gwas_sign_line=True, \n",
    "                         markernames=None, \n",
    "                         markeridcol='index',\n",
    "                         plotlabelrotation=60, \n",
    "                         show=not save,\n",
    "                         axlabelfontsize=31, \n",
    "                         gfont=6, \n",
    "                         dotsize=25, # for annotated, dotsize=18\n",
    "                         axtickfontsize=25, \n",
    "                         gwasp=5.3705692803437166e-05, # bc value (0.05/931)\n",
    "                         icd10_mapping=codemap3, \n",
    "                         ar=90,\n",
    "                         figtype='pdf', \n",
    "                         figname=\"Alz-Con_miami_\"+n, \n",
    "                         axxlabel='Phecode Category', \n",
    "                         annotatefontsize=22.25,\n",
    "                         autoalign=False,\n",
    "                         expand_text=(0.7, 0.5),\n",
    "                         expand_points=(0.5, 0.5),\n",
    "                         textcolor='#8DA0CB',\n",
    "                         figtitle='UCSF \\n AD vs. Control Manhattan Plot \\n Latine-identified patients',\n",
    "                         overlap=overlap)\n",
    "\n",
    "\n",
    "if save: \n",
    "    plt.savefig('Figures/Manhattan/Fig_4C_' + n + '.pdf', \n",
    "                bbox_inches='tight')\n",
    "plt.show()"
   ]
  },
  {
   "cell_type": "code",
   "execution_count": null,
   "metadata": {},
   "outputs": [],
   "source": [
    "dims = (40,10)\n",
    "figtype = 'pdf'\n",
    "fig, ax = marker.mhat_RE(df=UCSF, \n",
    "                         logp='-log_pvalue_W',\n",
    "                         chromo='icd10_chapter', \n",
    "                         suffix='_W',\n",
    "                         dim=dims, \n",
    "                         rows=9, \n",
    "                         columns=2, \n",
    "                         nrowstop=2, # number of rows for top subplot\n",
    "                         nrowsmid=6, # number of rows for middle subplot\n",
    "                         topmin=300, # min y-axis value for top subplot\n",
    "                         topmax=320, # max y-axis value for top subplot\n",
    "                         mainmin=0, # min y-axis value for middle subplot\n",
    "                         mainmax=60, # max y-axis value for middle subplot\n",
    "                         yskip=50, \n",
    "                         gwas_sign_line=True, \n",
    "                         markernames=None,\n",
    "                         markeridcol='index',\n",
    "                         plotlabelrotation=60, \n",
    "                         show=not save,\n",
    "                         axlabelfontsize=31, \n",
    "                         gfont=6, \n",
    "                         dotsize=25, # for annotated, dotsize=18\n",
    "                         axtickfontsize=25, \n",
    "                         gwasp=5.3705692803437166e-05, # bc value (0.05/931)\n",
    "                         icd10_mapping=codemap3, \n",
    "                         ar=90,\n",
    "                         figtype='pdf', \n",
    "                         figname=\"Alz-Con_miami_\"+n, \n",
    "                         axxlabel='Phecode Category', \n",
    "                         annotatefontsize=22.25,\n",
    "                         autoalign=False,\n",
    "                         expand_text=(0.7, 0.5),\n",
    "                         expand_points=(0.5, 0.5),\n",
    "                         textcolor='#E78AC3',\n",
    "                         figtitle='UCSF \\n AD vs. Control Manhattan Plot \\n White-identified patients',\n",
    "                         overlap=overlap)\n",
    "\n",
    "if save: \n",
    "    plt.savefig('Figures/Manhattan/Fig_4D_' + n + '.pdf', \n",
    "                bbox_inches='tight')\n",
    "plt.show()"
   ]
  },
  {
   "cell_type": "code",
   "execution_count": null,
   "metadata": {},
   "outputs": [],
   "source": []
  }
 ],
 "metadata": {
  "kernelspec": {
   "display_name": "Python 3",
   "language": "python",
   "name": "python3"
  },
  "language_info": {
   "codemirror_mode": {
    "name": "ipython",
    "version": 3
   },
   "file_extension": ".py",
   "mimetype": "text/x-python",
   "name": "python",
   "nbconvert_exporter": "python",
   "pygments_lexer": "ipython3",
   "version": "3.8.3"
  }
 },
 "nbformat": 4,
 "nbformat_minor": 4
}
